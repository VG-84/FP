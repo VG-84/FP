{
 "cells": [
  {
   "cell_type": "code",
   "execution_count": 1,
   "metadata": {
    "ExecuteTime": {
     "end_time": "2021-04-04T14:22:28.527844Z",
     "start_time": "2021-04-04T14:22:26.510307Z"
    }
   },
   "outputs": [],
   "source": [
    "import pandas as pd\n",
    "import numpy as np\n",
    "import re\n",
    "\n",
    "#from gensim.test.utils import common_texts\n",
    "from gensim.corpora.dictionary import Dictionary\n",
    "\n",
    "#предобработка текстов\n",
    "import nltk\n",
    "#nltk.download('stopwords')\n",
    "from nltk.corpus import stopwords\n",
    "#from nltk.tokenize import word_tokenize\n",
    "\n",
    "from razdel import tokenize # https://github.com/natasha/razdel\n",
    "#!pip install razdel\n",
    "\n",
    "import pymorphy2  # pip install pymorphy2\n",
    "\n",
    "from sklearn.linear_model import LogisticRegression\n",
    "from sklearn.model_selection import train_test_split\n",
    "from sklearn.metrics import f1_score, roc_auc_score, precision_score, recall_score, \\\n",
    "                            classification_report, precision_recall_curve, confusion_matrix\n",
    "from sklearn.base import BaseEstimator, TransformerMixin\n",
    "from sklearn.pipeline import Pipeline, FeatureUnion\n",
    "from sklearn.feature_extraction.text import TfidfVectorizer\n",
    "import itertools\n",
    "\n",
    "import matplotlib.pyplot as plt\n",
    "%matplotlib inline\n",
    "\n",
    "import dill"
   ]
  },
  {
   "cell_type": "code",
   "execution_count": 2,
   "metadata": {
    "ExecuteTime": {
     "end_time": "2021-04-04T14:22:28.543329Z",
     "start_time": "2021-04-04T14:22:28.529633Z"
    },
    "scrolled": true
   },
   "outputs": [],
   "source": [
    "def clean_msg(msg):\n",
    "    if isinstance(msg, list):\n",
    "        list_len = len(msg) - 2\n",
    "        for pos, elem in enumerate(msg):\n",
    "            if isinstance(elem, dict) and pos ==  list_len:\n",
    "                for key, val in elem.items():\n",
    "                    if key == 'type' and val == 'hashtag':\n",
    "                        break\n",
    "                    if key == 'type' and val == 'bold':\n",
    "                        break\n",
    "                    if key == 'type' and val == 'mention_name':\n",
    "                        break\n",
    "                    if key == 'text':\n",
    "                        return val\n",
    "    if isinstance(msg, str):\n",
    "        return msg\n"
   ]
  },
  {
   "cell_type": "code",
   "execution_count": 3,
   "metadata": {
    "ExecuteTime": {
     "end_time": "2021-04-04T14:22:28.811777Z",
     "start_time": "2021-04-04T14:22:28.547886Z"
    },
    "scrolled": true
   },
   "outputs": [],
   "source": [
    "ham_raw = pd.read_json('../../data/spam_detection/ham2016.json')\n",
    "spam_raw = pd.read_json('../../data/spam_detection/spam.json')"
   ]
  },
  {
   "cell_type": "markdown",
   "metadata": {},
   "source": [
    "## Обработка неспамных сообщений"
   ]
  },
  {
   "cell_type": "code",
   "execution_count": 4,
   "metadata": {
    "ExecuteTime": {
     "end_time": "2021-04-04T14:22:28.827428Z",
     "start_time": "2021-04-04T14:22:28.813412Z"
    }
   },
   "outputs": [
    {
     "data": {
      "text/html": [
       "<div>\n",
       "<style scoped>\n",
       "    .dataframe tbody tr th:only-of-type {\n",
       "        vertical-align: middle;\n",
       "    }\n",
       "\n",
       "    .dataframe tbody tr th {\n",
       "        vertical-align: top;\n",
       "    }\n",
       "\n",
       "    .dataframe thead th {\n",
       "        text-align: right;\n",
       "    }\n",
       "</style>\n",
       "<table border=\"1\" class=\"dataframe\">\n",
       "  <thead>\n",
       "    <tr style=\"text-align: right;\">\n",
       "      <th></th>\n",
       "      <th>name</th>\n",
       "      <th>type</th>\n",
       "      <th>id</th>\n",
       "      <th>messages</th>\n",
       "    </tr>\n",
       "  </thead>\n",
       "  <tbody>\n",
       "    <tr>\n",
       "      <th>0</th>\n",
       "      <td>Новое Измайлово</td>\n",
       "      <td>public_supergroup</td>\n",
       "      <td>9666949336</td>\n",
       "      <td>{'id': -999996617, 'type': 'service', 'date': ...</td>\n",
       "    </tr>\n",
       "    <tr>\n",
       "      <th>1</th>\n",
       "      <td>Новое Измайлово</td>\n",
       "      <td>public_supergroup</td>\n",
       "      <td>9666949336</td>\n",
       "      <td>{'id': 1, 'type': 'service', 'date': '2016-08-...</td>\n",
       "    </tr>\n",
       "    <tr>\n",
       "      <th>2</th>\n",
       "      <td>Новое Измайлово</td>\n",
       "      <td>public_supergroup</td>\n",
       "      <td>9666949336</td>\n",
       "      <td>{'id': 99, 'type': 'service', 'date': '2016-09...</td>\n",
       "    </tr>\n",
       "  </tbody>\n",
       "</table>\n",
       "</div>"
      ],
      "text/plain": [
       "              name               type          id  \\\n",
       "0  Новое Измайлово  public_supergroup  9666949336   \n",
       "1  Новое Измайлово  public_supergroup  9666949336   \n",
       "2  Новое Измайлово  public_supergroup  9666949336   \n",
       "\n",
       "                                            messages  \n",
       "0  {'id': -999996617, 'type': 'service', 'date': ...  \n",
       "1  {'id': 1, 'type': 'service', 'date': '2016-08-...  \n",
       "2  {'id': 99, 'type': 'service', 'date': '2016-09...  "
      ]
     },
     "execution_count": 4,
     "metadata": {},
     "output_type": "execute_result"
    }
   ],
   "source": [
    "ham_raw.head(3)"
   ]
  },
  {
   "cell_type": "code",
   "execution_count": 5,
   "metadata": {
    "ExecuteTime": {
     "end_time": "2021-04-04T14:22:29.844404Z",
     "start_time": "2021-04-04T14:22:28.829424Z"
    }
   },
   "outputs": [
    {
     "data": {
      "text/html": [
       "<div>\n",
       "<style scoped>\n",
       "    .dataframe tbody tr th:only-of-type {\n",
       "        vertical-align: middle;\n",
       "    }\n",
       "\n",
       "    .dataframe tbody tr th {\n",
       "        vertical-align: top;\n",
       "    }\n",
       "\n",
       "    .dataframe thead th {\n",
       "        text-align: right;\n",
       "    }\n",
       "</style>\n",
       "<table border=\"1\" class=\"dataframe\">\n",
       "  <thead>\n",
       "    <tr style=\"text-align: right;\">\n",
       "      <th></th>\n",
       "      <th>id</th>\n",
       "      <th>type</th>\n",
       "      <th>date</th>\n",
       "      <th>actor</th>\n",
       "      <th>actor_id</th>\n",
       "      <th>action</th>\n",
       "      <th>text</th>\n",
       "      <th>title</th>\n",
       "      <th>members</th>\n",
       "      <th>from</th>\n",
       "      <th>from_id</th>\n",
       "      <th>file</th>\n",
       "      <th>thumbnail</th>\n",
       "      <th>media_type</th>\n",
       "      <th>sticker_emoji</th>\n",
       "      <th>width</th>\n",
       "      <th>height</th>\n",
       "      <th>reply_to_message_id</th>\n",
       "      <th>photo</th>\n",
       "      <th>edited</th>\n",
       "      <th>forwarded_from</th>\n",
       "      <th>mime_type</th>\n",
       "      <th>contact_information.first_name</th>\n",
       "      <th>contact_information.last_name</th>\n",
       "      <th>contact_information.phone_number</th>\n",
       "      <th>duration_seconds</th>\n",
       "      <th>via_bot</th>\n",
       "      <th>contact_vcard</th>\n",
       "      <th>inviter</th>\n",
       "      <th>message_id</th>\n",
       "      <th>poll.question</th>\n",
       "      <th>poll.closed</th>\n",
       "      <th>poll.total_voters</th>\n",
       "      <th>poll.answers</th>\n",
       "      <th>location_information.latitude</th>\n",
       "      <th>location_information.longitude</th>\n",
       "    </tr>\n",
       "  </thead>\n",
       "  <tbody>\n",
       "    <tr>\n",
       "      <th>60987</th>\n",
       "      <td>73759</td>\n",
       "      <td>message</td>\n",
       "      <td>2021-03-24T09:52:51</td>\n",
       "      <td>NaN</td>\n",
       "      <td>NaN</td>\n",
       "      <td>NaN</td>\n",
       "      <td>мойка проходит в несколько этапов: сначала сби...</td>\n",
       "      <td>NaN</td>\n",
       "      <td>NaN</td>\n",
       "      <td>Серёжа</td>\n",
       "      <td>4.801717e+09</td>\n",
       "      <td>NaN</td>\n",
       "      <td>NaN</td>\n",
       "      <td>NaN</td>\n",
       "      <td>NaN</td>\n",
       "      <td>NaN</td>\n",
       "      <td>NaN</td>\n",
       "      <td>NaN</td>\n",
       "      <td>NaN</td>\n",
       "      <td>NaN</td>\n",
       "      <td>NaN</td>\n",
       "      <td>NaN</td>\n",
       "      <td>NaN</td>\n",
       "      <td>NaN</td>\n",
       "      <td>NaN</td>\n",
       "      <td>NaN</td>\n",
       "      <td>NaN</td>\n",
       "      <td>NaN</td>\n",
       "      <td>NaN</td>\n",
       "      <td>NaN</td>\n",
       "      <td>NaN</td>\n",
       "      <td>NaN</td>\n",
       "      <td>NaN</td>\n",
       "      <td>NaN</td>\n",
       "      <td>NaN</td>\n",
       "      <td>NaN</td>\n",
       "    </tr>\n",
       "    <tr>\n",
       "      <th>60988</th>\n",
       "      <td>73764</td>\n",
       "      <td>message</td>\n",
       "      <td>2021-03-24T10:08:35</td>\n",
       "      <td>NaN</td>\n",
       "      <td>NaN</td>\n",
       "      <td>NaN</td>\n",
       "      <td>Спасибо большое! Попробую сегодня</td>\n",
       "      <td>NaN</td>\n",
       "      <td>NaN</td>\n",
       "      <td>ИриШок</td>\n",
       "      <td>5.225578e+09</td>\n",
       "      <td>NaN</td>\n",
       "      <td>NaN</td>\n",
       "      <td>NaN</td>\n",
       "      <td>NaN</td>\n",
       "      <td>NaN</td>\n",
       "      <td>NaN</td>\n",
       "      <td>73759.0</td>\n",
       "      <td>NaN</td>\n",
       "      <td>NaN</td>\n",
       "      <td>NaN</td>\n",
       "      <td>NaN</td>\n",
       "      <td>NaN</td>\n",
       "      <td>NaN</td>\n",
       "      <td>NaN</td>\n",
       "      <td>NaN</td>\n",
       "      <td>NaN</td>\n",
       "      <td>NaN</td>\n",
       "      <td>NaN</td>\n",
       "      <td>NaN</td>\n",
       "      <td>NaN</td>\n",
       "      <td>NaN</td>\n",
       "      <td>NaN</td>\n",
       "      <td>NaN</td>\n",
       "      <td>NaN</td>\n",
       "      <td>NaN</td>\n",
       "    </tr>\n",
       "    <tr>\n",
       "      <th>60989</th>\n",
       "      <td>73765</td>\n",
       "      <td>message</td>\n",
       "      <td>2021-03-24T10:08:35</td>\n",
       "      <td>NaN</td>\n",
       "      <td>NaN</td>\n",
       "      <td>NaN</td>\n",
       "      <td>[{'type': 'mention_name', 'text': 'Серёжа', 'u...</td>\n",
       "      <td>NaN</td>\n",
       "      <td>NaN</td>\n",
       "      <td>ChatKeeperBot</td>\n",
       "      <td>4.848115e+09</td>\n",
       "      <td>NaN</td>\n",
       "      <td>NaN</td>\n",
       "      <td>NaN</td>\n",
       "      <td>NaN</td>\n",
       "      <td>NaN</td>\n",
       "      <td>NaN</td>\n",
       "      <td>73759.0</td>\n",
       "      <td>NaN</td>\n",
       "      <td>NaN</td>\n",
       "      <td>NaN</td>\n",
       "      <td>NaN</td>\n",
       "      <td>NaN</td>\n",
       "      <td>NaN</td>\n",
       "      <td>NaN</td>\n",
       "      <td>NaN</td>\n",
       "      <td>NaN</td>\n",
       "      <td>NaN</td>\n",
       "      <td>NaN</td>\n",
       "      <td>NaN</td>\n",
       "      <td>NaN</td>\n",
       "      <td>NaN</td>\n",
       "      <td>NaN</td>\n",
       "      <td>NaN</td>\n",
       "      <td>NaN</td>\n",
       "      <td>NaN</td>\n",
       "    </tr>\n",
       "  </tbody>\n",
       "</table>\n",
       "</div>"
      ],
      "text/plain": [
       "          id     type                 date actor  actor_id action  \\\n",
       "60987  73759  message  2021-03-24T09:52:51   NaN       NaN    NaN   \n",
       "60988  73764  message  2021-03-24T10:08:35   NaN       NaN    NaN   \n",
       "60989  73765  message  2021-03-24T10:08:35   NaN       NaN    NaN   \n",
       "\n",
       "                                                    text title members  \\\n",
       "60987  мойка проходит в несколько этапов: сначала сби...   NaN     NaN   \n",
       "60988                  Спасибо большое! Попробую сегодня   NaN     NaN   \n",
       "60989  [{'type': 'mention_name', 'text': 'Серёжа', 'u...   NaN     NaN   \n",
       "\n",
       "                from       from_id file thumbnail media_type sticker_emoji  \\\n",
       "60987         Серёжа  4.801717e+09  NaN       NaN        NaN           NaN   \n",
       "60988         ИриШок  5.225578e+09  NaN       NaN        NaN           NaN   \n",
       "60989  ChatKeeperBot  4.848115e+09  NaN       NaN        NaN           NaN   \n",
       "\n",
       "       width  height  reply_to_message_id photo edited forwarded_from  \\\n",
       "60987    NaN     NaN                  NaN   NaN    NaN            NaN   \n",
       "60988    NaN     NaN              73759.0   NaN    NaN            NaN   \n",
       "60989    NaN     NaN              73759.0   NaN    NaN            NaN   \n",
       "\n",
       "      mime_type contact_information.first_name contact_information.last_name  \\\n",
       "60987       NaN                            NaN                           NaN   \n",
       "60988       NaN                            NaN                           NaN   \n",
       "60989       NaN                            NaN                           NaN   \n",
       "\n",
       "      contact_information.phone_number  duration_seconds via_bot  \\\n",
       "60987                              NaN               NaN     NaN   \n",
       "60988                              NaN               NaN     NaN   \n",
       "60989                              NaN               NaN     NaN   \n",
       "\n",
       "      contact_vcard inviter  message_id poll.question poll.closed  \\\n",
       "60987           NaN     NaN         NaN           NaN         NaN   \n",
       "60988           NaN     NaN         NaN           NaN         NaN   \n",
       "60989           NaN     NaN         NaN           NaN         NaN   \n",
       "\n",
       "       poll.total_voters poll.answers  location_information.latitude  \\\n",
       "60987                NaN          NaN                            NaN   \n",
       "60988                NaN          NaN                            NaN   \n",
       "60989                NaN          NaN                            NaN   \n",
       "\n",
       "       location_information.longitude  \n",
       "60987                             NaN  \n",
       "60988                             NaN  \n",
       "60989                             NaN  "
      ]
     },
     "execution_count": 5,
     "metadata": {},
     "output_type": "execute_result"
    }
   ],
   "source": [
    "ham_raw1 = pd.json_normalize(ham_raw['messages'])\n",
    "pd.set_option('display.max_columns', 50)\n",
    "ham_raw1.tail(3)"
   ]
  },
  {
   "cell_type": "markdown",
   "metadata": {},
   "source": [
    "Пример предпоследнего сообщения"
   ]
  },
  {
   "cell_type": "code",
   "execution_count": 6,
   "metadata": {
    "ExecuteTime": {
     "end_time": "2021-04-04T14:22:29.859729Z",
     "start_time": "2021-04-04T14:22:29.845406Z"
    }
   },
   "outputs": [
    {
     "data": {
      "text/plain": [
       "'Спасибо большое! Попробую сегодня'"
      ]
     },
     "execution_count": 6,
     "metadata": {},
     "output_type": "execute_result"
    }
   ],
   "source": [
    "ham_raw1['text'][60988]"
   ]
  },
  {
   "cell_type": "markdown",
   "metadata": {},
   "source": [
    "Пример последнего сообщения от бота"
   ]
  },
  {
   "cell_type": "code",
   "execution_count": 7,
   "metadata": {
    "ExecuteTime": {
     "end_time": "2021-04-04T14:22:29.874722Z",
     "start_time": "2021-04-04T14:22:29.863723Z"
    }
   },
   "outputs": [
    {
     "data": {
      "text/plain": [
       "[{'type': 'mention_name', 'text': 'Серёжа', 'user_id': 506749612},\n",
       " ', вашу репутацию увеличил ',\n",
       " {'type': 'mention_name', 'text': 'ИриШок', 'user_id': 930610950},\n",
       " '.\\n Ваша репутация 8']"
      ]
     },
     "execution_count": 7,
     "metadata": {},
     "output_type": "execute_result"
    }
   ],
   "source": [
    "ham_raw1['text'][60989]"
   ]
  },
  {
   "cell_type": "markdown",
   "metadata": {},
   "source": [
    "Список признаков"
   ]
  },
  {
   "cell_type": "code",
   "execution_count": 8,
   "metadata": {
    "ExecuteTime": {
     "end_time": "2021-04-04T14:22:29.890724Z",
     "start_time": "2021-04-04T14:22:29.876728Z"
    }
   },
   "outputs": [
    {
     "data": {
      "text/plain": [
       "Index(['id', 'type', 'date', 'actor', 'actor_id', 'action', 'text', 'title',\n",
       "       'members', 'from', 'from_id', 'file', 'thumbnail', 'media_type',\n",
       "       'sticker_emoji', 'width', 'height', 'reply_to_message_id', 'photo',\n",
       "       'edited', 'forwarded_from', 'mime_type',\n",
       "       'contact_information.first_name', 'contact_information.last_name',\n",
       "       'contact_information.phone_number', 'duration_seconds', 'via_bot',\n",
       "       'contact_vcard', 'inviter', 'message_id', 'poll.question',\n",
       "       'poll.closed', 'poll.total_voters', 'poll.answers',\n",
       "       'location_information.latitude', 'location_information.longitude'],\n",
       "      dtype='object')"
      ]
     },
     "execution_count": 8,
     "metadata": {},
     "output_type": "execute_result"
    }
   ],
   "source": [
    "ham_raw1.columns"
   ]
  },
  {
   "cell_type": "markdown",
   "metadata": {},
   "source": [
    "Уникальные значения по некоторым признакам"
   ]
  },
  {
   "cell_type": "code",
   "execution_count": 9,
   "metadata": {
    "ExecuteTime": {
     "end_time": "2021-04-04T14:22:29.986724Z",
     "start_time": "2021-04-04T14:22:29.891724Z"
    }
   },
   "outputs": [
    {
     "name": "stdout",
     "output_type": "stream",
     "text": [
      "id [-999996617          1         99 ...      73759      73764      73765]\n",
      "type ['service' 'message']\n",
      "date ['2016-08-26T12:01:01' '2016-09-01T18:04:20' '2016-09-01T18:07:07' ...\n",
      " '2021-03-24T09:48:16' '2021-03-24T09:52:51' '2021-03-24T10:08:35']\n",
      "actor_id [4.49716059e+09 9.66694934e+09 4.48584734e+09 ... 4.86776919e+09\n",
      " 5.43563062e+09 5.47227313e+09]\n",
      "action ['migrate_to_supergroup' 'migrate_from_group' 'invite_members' nan\n",
      " 'remove_members' 'join_group_by_link' 'pin_message' 'group_call'\n",
      " 'invite_to_group_call']\n",
      "from_id [           nan 4.47956145e+09 4.55065251e+09 ... 5.37073416e+09\n",
      " 5.95687004e+09 5.75695058e+09]\n",
      "file [nan '(File not included. Change data exporting settings to download.)']\n",
      "thumbnail [nan '(File not included. Change data exporting settings to download.)']\n",
      "media_type [nan 'sticker' 'video_file' 'animation' 'voice_message' 'video_message'\n",
      " 'audio_file']\n",
      "sticker_emoji [nan '😠' '💩' '🎉' '🌚' '😊' '🙈' '😒' '🎮' '😂' '🙄' '👈' '😳' '🤔' '😌' '😞' '😋' '😍'\n",
      " '☺️' '😁' '👍' '✌' '💐' '😡' '🔥' '😐' '🏃' '🍞' '📷' '😈' '😱' '🐓' '🖕' '🐟' '✋' '🚢'\n",
      " '👆' '😖' '🔩' '😝' '😅' '💋' '👀' '☀' '😏' '✨' '😃' '🌙' '🐼' '🍔' '✂' '😵' '🏮' '😎'\n",
      " '👦' '👲' '👻' '😬' '😔' '👑' '🍻' '🌰' '🌱' '🚬' '👋' '👱' '😮' '🎪' '😰' '😢' '😯' '😦'\n",
      " '💻' '🐕' '🍰' '👿' '🔪' '🚨' '👮' '🍩' '✊' '😴' '🌺' '😜' '😕' '😆' '👌' '💭' '😶' '😚'\n",
      " '😘' '😗' '⚔' '😭' '👔' '💪' '🙊' '🙅' '🤦' '⛹' '🤓' '🙌' '🤷' '🤜' '📞' '🏅' '😧'\n",
      " '🤷\\u200d♀️' '🐷' '❤' '😼' '😑' '💜' '😲' '🕺' '🖋' '🐣' '🤷\\u200d♂️' '🔧' '💰' '💸'\n",
      " '😨' '👂' '💔' '😫' '🇷🇺' '🙏' '💤' '⚽' '😀' '💃' '🐶' '👏' '👹' '🙀' '😿' '😄'\n",
      " '🤦\\u200d♂️' '💀' '☕️' '🍿' '🌹' '❤️' '🐒' '😉' '🤪' '👎' '🔍' '☹' '🔫' '💏' '🍸' '💵'\n",
      " '🤫' '☝' '💑' '🤗' '✊️' '🙃' '🦠' '🥺' '🍳' '🤑' '❗️' '🤟' '😤' '🤨']\n",
      "reply_to_message_id [   nan   171.   202. ... 73753. 73755. 73759.]\n",
      "photo [nan '(File not included. Change data exporting settings to download.)']\n",
      "edited [nan '2016-09-09T17:10:31' '2016-09-10T13:52:01' ... '2021-03-23T22:16:50'\n",
      " '2021-03-23T23:50:56' '2021-03-24T08:33:24']\n",
      "mime_type [nan\n",
      " 'application/vnd.openxmlformats-officedocument.wordprocessingml.document'\n",
      " 'application/pdf' 'video/mp4' 'image/png' 'image/jpeg' 'audio/ogg'\n",
      " 'application/octet-stream' 'image/gif' 'text/rtf' 'audio/mpeg'\n",
      " 'video/ext-mp4' 'application/zip']\n",
      "contact_information.first_name [nan 'Лиза Строителей' 'Лидер Эксплуатация' 'Участковый'\n",
      " 'Call-центр Лидер' 'Алексей юрьевич' 'Диспетчерская' 'Сергей Сантехн.'\n",
      " 'Ольга' 'Нина' 'УК' 'Дежурный Гибдд' 'Виктор Ветеринар'\n",
      " 'Участков Ни Евг Ник Пучков' '' 'ЛидерЭкспл' 'ВетАнгел'\n",
      " 'Елена Чат Подъезда' 'УК КОМФОРТ'\n",
      " 'Участковый Новое Измайлово Евгений Николаевич' 'Лидия' 'Дамир'\n",
      " 'Стилист-Нумеролог Елена' 'НИ Электрик-Сантехник Стр3 Сергей'\n",
      " 'Ремонт Посудомойки+Стиралка' 'Денис' 'Анна' 'Букеты'\n",
      " 'Наталья Сакраменто Массаж' 'Величко Ав' 'Илья' 'Марина Юник' 'Валентина'\n",
      " 'Студия' 'Полицейская-колонкисты' 'Стилист-Нумеролог'\n",
      " 'Катя-Ситникова,4-110 Кв' 'Лилит Рабочий' 'Ремонт Телевизора Сергей'\n",
      " 'Шары НИ' 'Елена-парикмахер НИ' 'РЭУ' 'Юля Брови' 'ЕДС'\n",
      " 'Артур НИ Поверка' 'Саша Сантехник, НИ' 'Гарик']\n",
      "contact_information.last_name [nan '3' '' 'Новая' 'наш' 'Бухгалтерия' 'Call-центр' 'Эвакуатор'\n",
      " 'Дисптечерская УК' 'Консьерж' 'Массаж Спины' 'недорого' 'Семён'\n",
      " 'Мастер Стиралка' 'Страхование' 'Новоизмайлово' 'Парикмахерская' 'Шарики'\n",
      " 'Сюрприз' 'Елена' 'Людмила' 'Садовый' 'Реутов' '2020']\n",
      "contact_information.phone_number [nan '+7 906 097 90 74' '+7 495 744 55 88' '+7 999 010 31 50'\n",
      " '+89990103150' '+89151706613' '+7 905 515 52 74' '+7 916 853 82 74'\n",
      " '+7 915 467 48 42' '+84 957445588' '+84 955219902' '+7 985 344 11 42'\n",
      " '+7 965 436 72 25' '+7 915 170 66 13' '+7 916 910 55 70' '+89164341162'\n",
      " '+7 495 737 77 40' '+7 915 405 91 77' '+7 906 378 63 77'\n",
      " '+7 925 378 45 62' '+7 915 228 37 48' '+89261563757' '+7 926 870 15 55'\n",
      " '+7 926 073 63 26' '+7 903 677 52 00' '+7 967 657 67 22'\n",
      " '+7 968 051 78 88' '+7 916 375 94 06' '+7 926 574 47 20'\n",
      " '+7 917 504 45 80' '+7 916 437 13 31' '+7 925 699 16 09'\n",
      " '+7 968 797 32 07' '+7 926 858 69 46' '+89091546365' '+7 495 777 60 00'\n",
      " '+7 916 005 89 39' '+7 498 650 25 46' '+7 903 016 54 27'\n",
      " '+7 966 013 79 11' '+7 903 495 30 17']\n",
      "duration_seconds [ nan  68.  38.   1.  13.   4.   3.   5.   6.  14.   9.  24.  19.   8.\n",
      "  10.  12.  32. 152.  35.   7.  29. 345.  27.  96.  58.  79.  22.   2.\n",
      "  51.  37.  28.  20.  15.  18.  74. 151.  16.  31.  46.  57.  39.  21.\n",
      " 103.  30.  67.  77.  49.  47. 116.  11. 175.  33.  26.  36.  54.  61.\n",
      "  99.  44.  41.  52.  72.  83.  23.  87.  56.  62.  17.  25. 127.  81.\n",
      " 108. 532.  82.  55. 177.  42.  75. 263.  69.  85.  78. 168.  34.  65.\n",
      " 143. 133. 110. 173. 106.  50. 125.  63.  70. 107.  97.  53. 140. 135.\n",
      " 156. 119.  40.  60.  43.  89.]\n",
      "via_bot [nan '@gif' '@vote']\n",
      "inviter [nan 'Group']\n",
      "message_id [   nan 50413. 52002. 53291.]\n",
      "poll.question [nan 'Мешает ли в чате:'\n",
      " 'Новоизмайловский квиз. Какое было первое название у нашего микрорайона?']\n",
      "poll.closed [nan False]\n",
      "poll.total_voters [ nan 109. 111.]\n",
      "location_information.latitude [      nan 55.789003 55.810251]\n",
      "location_information.longitude [      nan 37.883185 37.891219]\n"
     ]
    }
   ],
   "source": [
    "all_cols = ['id', 'type', 'date', 'actor', 'actor_id', 'action', 'text', 'title',\n",
    "       'members', 'from', 'from_id', 'file', 'thumbnail', 'media_type',\n",
    "       'sticker_emoji', 'width', 'height', 'reply_to_message_id', 'photo',\n",
    "       'edited', 'forwarded_from', 'mime_type',\n",
    "       'contact_information.first_name', 'contact_information.last_name',\n",
    "       'contact_information.phone_number', 'duration_seconds', 'via_bot',\n",
    "       'contact_vcard', 'inviter', 'message_id', 'poll.question',\n",
    "       'poll.closed', 'poll.total_voters', 'poll.answers',\n",
    "       'location_information.latitude', 'location_information.longitude']\n",
    "\n",
    "some_cols = ['id', 'type', 'date', 'actor_id', 'action',  \n",
    "         'from_id', 'file', 'thumbnail', 'media_type',\n",
    "       'sticker_emoji', 'reply_to_message_id', 'photo',\n",
    "       'edited',  'mime_type',\n",
    "       'contact_information.first_name', 'contact_information.last_name',\n",
    "       'contact_information.phone_number', 'duration_seconds', 'via_bot',\n",
    "        'inviter', 'message_id', 'poll.question',\n",
    "       'poll.closed', 'poll.total_voters', \n",
    "       'location_information.latitude', 'location_information.longitude']\n",
    "\n",
    "for col in some_cols:\n",
    "    print(col, ham_raw1[col].unique())"
   ]
  },
  {
   "cell_type": "code",
   "execution_count": 10,
   "metadata": {
    "ExecuteTime": {
     "end_time": "2021-04-04T14:22:30.002725Z",
     "start_time": "2021-04-04T14:22:29.987722Z"
    }
   },
   "outputs": [
    {
     "data": {
      "text/plain": [
       "60980    [{'type': 'mention_name', 'text': 'بلا أم أحمق...\n",
       "60981    Здравствуйте! Скажите пожалуйста ,а машина сух...\n",
       "60982           Здравствуйте, да, там сушка автоматическая\n",
       "60983                       На объездном  сейчас очередь (\n",
       "60984                              И не царапает покрытие?\n",
       "60985                              Присоединяюсь к вопросу\n",
       "60986    лично у меня ни разу не царапало.. но я езжу т...\n",
       "60987    мойка проходит в несколько этапов: сначала сби...\n",
       "60988                    Спасибо большое! Попробую сегодня\n",
       "60989    [{'type': 'mention_name', 'text': 'Серёжа', 'u...\n",
       "Name: text, dtype: object"
      ]
     },
     "execution_count": 10,
     "metadata": {},
     "output_type": "execute_result"
    }
   ],
   "source": [
    "ham_raw1['text'].tail(10)"
   ]
  },
  {
   "cell_type": "code",
   "execution_count": 11,
   "metadata": {
    "ExecuteTime": {
     "end_time": "2021-04-04T14:22:30.050722Z",
     "start_time": "2021-04-04T14:22:30.003722Z"
    }
   },
   "outputs": [
    {
     "data": {
      "text/plain": [
       "0                                                  Всем ✋🏻\n",
       "1        Это супергруппа. А это значит что админ может ...\n",
       "2                                                        /\n",
       "3                    не пугайтесь, немного почистил мусор)\n",
       "4                                             Всем привет)\n",
       "                               ...                        \n",
       "54382                              И не царапает покрытие?\n",
       "54383                              Присоединяюсь к вопросу\n",
       "54384    лично у меня ни разу не царапало.. но я езжу т...\n",
       "54385    мойка проходит в несколько этапов: сначала сби...\n",
       "54386                    Спасибо большое! Попробую сегодня\n",
       "Name: text, Length: 54387, dtype: object"
      ]
     },
     "execution_count": 11,
     "metadata": {},
     "output_type": "execute_result"
    }
   ],
   "source": [
    "# извлечение из json текста, , замена '' на Nan, удаление строк (сообщений) без текста\n",
    "# обновление индекса после удаление строк (индекс теперь по порядку)\n",
    "ham = ham_raw1['text'].apply(clean_msg).replace('', np.nan).dropna().reset_index(drop=True)\n",
    "ham"
   ]
  },
  {
   "cell_type": "code",
   "execution_count": 12,
   "metadata": {
    "ExecuteTime": {
     "end_time": "2021-04-04T14:22:30.066765Z",
     "start_time": "2021-04-04T14:22:30.051722Z"
    },
    "scrolled": true
   },
   "outputs": [
    {
     "data": {
      "text/plain": [
       "0                                                                                                           Всем ✋🏻\n",
       "1     Это супергруппа. А это значит что админ может редактировать и удалять любые сообщения. Пользователи могут ...\n",
       "2                                                                                                                 /\n",
       "3                                                                             не пугайтесь, немного почистил мусор)\n",
       "4                                                                                                      Всем привет)\n",
       "5                                                                                                       Привет всем\n",
       "6                                                                                                      Добрый вечер\n",
       "7                                                                                                   Доброе утро! :)\n",
       "8     Дети разные бывают - если это маленькие - то родителям обьяснил бы, если великовозрастные дэбилы - начисти...\n",
       "9     С учётом того что у нас участились случаи закидывания прохожих всякими кульками и пакетами с мукой... Надо...\n",
       "10    Если не ошибаюсь это уже не в первый раз.  Они ещё иногда самокаты в машины запускают.  Может конечно это ...\n",
       "11                                      Я так понимаю, это не первый случай, ранее в ВК читала и тоже на Ситникова.\n",
       "12    За руку и беседовать с родителями. А если не помогает - к участковому на беседу. Порча чужого имущества на...\n",
       "13                                                                                                     Всем привет!\n",
       "14                                                                                                             😂😂😂😂\n",
       "15                                                                              Вопрос к админу , а флудочат есть ?\n",
       "16                                                                                               Че такое флудочат?\n",
       "17    Вопрос поставил меня в тупик ))) ну все , что оффтоп , без каких либо правил ..ну как бы галатнее то выраз...\n",
       "18    И канал сделайте для важных новостей , мне , к примеру , удобнее новости в телеге читать , в вк редко захо...\n",
       "19                                                                                         Есть такой чат в ватсапе\n",
       "20                                                                                                Как туда попасть?\n",
       "21                                          В этой группе напишите администратору Александру, он и в ватсапе админ)\n",
       "22    Чат , или канал  ? Чат - это вот мы тут сидим , переписываемся с вами , канал - односторонний способ перед...\n",
       "23                                                                                                         Спасибо!\n",
       "24                                   Чат, но там все строго по делу, только важная инфа, без обсуждений, иначе бан😏\n",
       "25                                                         Ну и для пользователей телеги канал ) было бы не плохо )\n",
       "26                                              В чате флуда никаких ограничений. Ограничения в чате новостей и ЧП.\n",
       "27                                                                                                      Всем привет\n",
       "28                                                                                                      Ну привет 😆\n",
       "29                                                                                                                ✋\n",
       "30                                                                                                        Здрасьте)\n",
       "31    Добрый вечер!) Вопрос ко всем сколько примерно выходит кварплата у вас в месяц?) У меня за этот месяц одно...\n",
       "32                                                           При том что проживает и зарегистрирован один человек!)\n",
       "33                                                                                      Какая непонятная ситуация!)\n",
       "34                                                                                                       91 м2 6500\n",
       "35                                                                                         расход большой воды и жэ\n",
       "36                                                                                                               ээ\n",
       "37                                                                                                       40 кв 3400\n",
       "38                                                                                                     46,43 - 4100\n",
       "39                                      Мне в этот раз 7 пришло, но я показания счетчиков второй раз всего подавал😂\n",
       "40                                                                                                        40 метров\n",
       "41            Вот самое дорогое это водоотведение по ипу 1548, холодное водоснабжение 1761 и тех. обслуживание 1802\n",
       "42                                            Я когда начал по счетчикам платить в первый раз вообще 16 пришло!))))\n",
       "43                                          Потом был перерасчет на все равно мне кажется что как то не так считают\n",
       "44                                                                                    Значит я еще легко отделался)\n",
       "45                                      А вы заведите тетрадку и записывайте показания которые подаёте каждый месяц\n",
       "46                                                               Это я сделал!) Есть фото и скриншоты ежемесячные!)\n",
       "47                                               Потому что частенько бывает, что бухгалтерия \"случайно\" ошибается)\n",
       "48                                                                       Я сам из Казани, так у нас это милое дело)\n",
       "49                                                                                           Всегда нужно проверять\n",
       "Name: text, dtype: object"
      ]
     },
     "execution_count": 12,
     "metadata": {},
     "output_type": "execute_result"
    }
   ],
   "source": [
    "# увеличение максимальной ширины столбца\n",
    "pd.set_option('max_colwidth', 110)\n",
    "ham.head(50)"
   ]
  },
  {
   "cell_type": "markdown",
   "metadata": {},
   "source": [
    "## Обработка сообщений со спамом"
   ]
  },
  {
   "cell_type": "code",
   "execution_count": 13,
   "metadata": {
    "ExecuteTime": {
     "end_time": "2021-04-04T14:22:30.082723Z",
     "start_time": "2021-04-04T14:22:30.068750Z"
    },
    "scrolled": true
   },
   "outputs": [
    {
     "data": {
      "text/html": [
       "<div>\n",
       "<style scoped>\n",
       "    .dataframe tbody tr th:only-of-type {\n",
       "        vertical-align: middle;\n",
       "    }\n",
       "\n",
       "    .dataframe tbody tr th {\n",
       "        vertical-align: top;\n",
       "    }\n",
       "\n",
       "    .dataframe thead th {\n",
       "        text-align: right;\n",
       "    }\n",
       "</style>\n",
       "<table border=\"1\" class=\"dataframe\">\n",
       "  <thead>\n",
       "    <tr style=\"text-align: right;\">\n",
       "      <th></th>\n",
       "      <th>name</th>\n",
       "      <th>type</th>\n",
       "      <th>id</th>\n",
       "      <th>messages</th>\n",
       "    </tr>\n",
       "  </thead>\n",
       "  <tbody>\n",
       "    <tr>\n",
       "      <th>0</th>\n",
       "      <td>Журнал НИ</td>\n",
       "      <td>private_channel</td>\n",
       "      <td>9802778229</td>\n",
       "      <td>{'id': 1, 'type': 'service', 'date': '2020-07-07T20:25:57', 'actor': 'Журнал НИ', 'actor_id': 9802778229, ...</td>\n",
       "    </tr>\n",
       "    <tr>\n",
       "      <th>1</th>\n",
       "      <td>Журнал НИ</td>\n",
       "      <td>private_channel</td>\n",
       "      <td>9802778229</td>\n",
       "      <td>{'id': 4, 'type': 'message', 'date': '2020-07-07T20:27:15', 'from': 'Журнал НИ', 'from_id': 9802778229, 't...</td>\n",
       "    </tr>\n",
       "    <tr>\n",
       "      <th>2</th>\n",
       "      <td>Журнал НИ</td>\n",
       "      <td>private_channel</td>\n",
       "      <td>9802778229</td>\n",
       "      <td>{'id': 5, 'type': 'message', 'date': '2020-07-07T20:31:15', 'from': 'Журнал НИ', 'from_id': 9802778229, 't...</td>\n",
       "    </tr>\n",
       "  </tbody>\n",
       "</table>\n",
       "</div>"
      ],
      "text/plain": [
       "        name             type          id  \\\n",
       "0  Журнал НИ  private_channel  9802778229   \n",
       "1  Журнал НИ  private_channel  9802778229   \n",
       "2  Журнал НИ  private_channel  9802778229   \n",
       "\n",
       "                                                                                                        messages  \n",
       "0  {'id': 1, 'type': 'service', 'date': '2020-07-07T20:25:57', 'actor': 'Журнал НИ', 'actor_id': 9802778229, ...  \n",
       "1  {'id': 4, 'type': 'message', 'date': '2020-07-07T20:27:15', 'from': 'Журнал НИ', 'from_id': 9802778229, 't...  \n",
       "2  {'id': 5, 'type': 'message', 'date': '2020-07-07T20:31:15', 'from': 'Журнал НИ', 'from_id': 9802778229, 't...  "
      ]
     },
     "execution_count": 13,
     "metadata": {},
     "output_type": "execute_result"
    }
   ],
   "source": [
    "spam_raw.head(3)"
   ]
  },
  {
   "cell_type": "code",
   "execution_count": 14,
   "metadata": {
    "ExecuteTime": {
     "end_time": "2021-04-04T14:22:30.256761Z",
     "start_time": "2021-04-04T14:22:30.084722Z"
    }
   },
   "outputs": [
    {
     "data": {
      "text/html": [
       "<div>\n",
       "<style scoped>\n",
       "    .dataframe tbody tr th:only-of-type {\n",
       "        vertical-align: middle;\n",
       "    }\n",
       "\n",
       "    .dataframe tbody tr th {\n",
       "        vertical-align: top;\n",
       "    }\n",
       "\n",
       "    .dataframe thead th {\n",
       "        text-align: right;\n",
       "    }\n",
       "</style>\n",
       "<table border=\"1\" class=\"dataframe\">\n",
       "  <thead>\n",
       "    <tr style=\"text-align: right;\">\n",
       "      <th></th>\n",
       "      <th>id</th>\n",
       "      <th>type</th>\n",
       "      <th>date</th>\n",
       "      <th>actor</th>\n",
       "      <th>actor_id</th>\n",
       "      <th>action</th>\n",
       "      <th>title</th>\n",
       "      <th>text</th>\n",
       "      <th>from</th>\n",
       "      <th>from_id</th>\n",
       "    </tr>\n",
       "  </thead>\n",
       "  <tbody>\n",
       "    <tr>\n",
       "      <th>2003</th>\n",
       "      <td>2044</td>\n",
       "      <td>message</td>\n",
       "      <td>2021-03-23T13:22:14</td>\n",
       "      <td>NaN</td>\n",
       "      <td>NaN</td>\n",
       "      <td>NaN</td>\n",
       "      <td>NaN</td>\n",
       "      <td>[🆘 Пользователь наказан командой mute\\n1c565fd4-fff4-4d57-a7e1-e88444b10d3a\\n\\n, {'type': 'code', 'text': ...</td>\n",
       "      <td>Журнал НИ</td>\n",
       "      <td>9.802778e+09</td>\n",
       "    </tr>\n",
       "    <tr>\n",
       "      <th>2004</th>\n",
       "      <td>2045</td>\n",
       "      <td>message</td>\n",
       "      <td>2021-03-23T15:26:59</td>\n",
       "      <td>NaN</td>\n",
       "      <td>NaN</td>\n",
       "      <td>NaN</td>\n",
       "      <td>NaN</td>\n",
       "      <td>[🆘 Пользователь наказан командой mute\\n17aa7c06-b7bb-4ecc-a0f2-9beda0594b9c\\n\\n, {'type': 'code', 'text': ...</td>\n",
       "      <td>Журнал НИ</td>\n",
       "      <td>9.802778e+09</td>\n",
       "    </tr>\n",
       "    <tr>\n",
       "      <th>2005</th>\n",
       "      <td>2046</td>\n",
       "      <td>message</td>\n",
       "      <td>2021-03-23T21:30:20</td>\n",
       "      <td>NaN</td>\n",
       "      <td>NaN</td>\n",
       "      <td>NaN</td>\n",
       "      <td>NaN</td>\n",
       "      <td>[🆔 , {'type': 'hashtag', 'text': '#НовыйПользователь'},  , {'type': 'hashtag', 'text': '#новыйпользователь...</td>\n",
       "      <td>Журнал НИ</td>\n",
       "      <td>9.802778e+09</td>\n",
       "    </tr>\n",
       "    <tr>\n",
       "      <th>2006</th>\n",
       "      <td>2047</td>\n",
       "      <td>message</td>\n",
       "      <td>2021-03-23T21:34:33</td>\n",
       "      <td>NaN</td>\n",
       "      <td>NaN</td>\n",
       "      <td>NaN</td>\n",
       "      <td>NaN</td>\n",
       "      <td>[⚙️ , {'type': 'hashtag', 'text': '#Настройки'},  Пользователь изменил настройки группы , {'type': 'hashta...</td>\n",
       "      <td>Журнал НИ</td>\n",
       "      <td>9.802778e+09</td>\n",
       "    </tr>\n",
       "    <tr>\n",
       "      <th>2007</th>\n",
       "      <td>2048</td>\n",
       "      <td>message</td>\n",
       "      <td>2021-03-24T09:12:42</td>\n",
       "      <td>NaN</td>\n",
       "      <td>NaN</td>\n",
       "      <td>NaN</td>\n",
       "      <td>NaN</td>\n",
       "      <td>[🆔 , {'type': 'hashtag', 'text': '#НовыйПользователь'},  , {'type': 'hashtag', 'text': '#новыйпользователь...</td>\n",
       "      <td>Журнал НИ</td>\n",
       "      <td>9.802778e+09</td>\n",
       "    </tr>\n",
       "    <tr>\n",
       "      <th>2008</th>\n",
       "      <td>2049</td>\n",
       "      <td>message</td>\n",
       "      <td>2021-03-24T09:13:01</td>\n",
       "      <td>NaN</td>\n",
       "      <td>NaN</td>\n",
       "      <td>NaN</td>\n",
       "      <td>NaN</td>\n",
       "      <td>[✅ Пользователь прошедший проверку разблокирован , {'type': 'hashtag', 'text': '#запрос'}, \\n133e204a-8a1b...</td>\n",
       "      <td>Журнал НИ</td>\n",
       "      <td>9.802778e+09</td>\n",
       "    </tr>\n",
       "    <tr>\n",
       "      <th>2009</th>\n",
       "      <td>2050</td>\n",
       "      <td>message</td>\n",
       "      <td>2021-03-24T09:14:22</td>\n",
       "      <td>NaN</td>\n",
       "      <td>NaN</td>\n",
       "      <td>NaN</td>\n",
       "      <td>NaN</td>\n",
       "      <td>[🆘 Пользователь наказан командой ban\\n6ae21a32-1bdf-47c5-a940-f2b13181e8aa\\n\\n, {'type': 'code', 'text': '...</td>\n",
       "      <td>Журнал НИ</td>\n",
       "      <td>9.802778e+09</td>\n",
       "    </tr>\n",
       "    <tr>\n",
       "      <th>2010</th>\n",
       "      <td>2051</td>\n",
       "      <td>message</td>\n",
       "      <td>2021-03-24T09:14:32</td>\n",
       "      <td>NaN</td>\n",
       "      <td>NaN</td>\n",
       "      <td>NaN</td>\n",
       "      <td>NaN</td>\n",
       "      <td>[🆘 Пользователь наказан командой ban\\n63942221-6053-4e57-af28-b0b54d7f7bc1\\n\\n, {'type': 'code', 'text': '...</td>\n",
       "      <td>Журнал НИ</td>\n",
       "      <td>9.802778e+09</td>\n",
       "    </tr>\n",
       "    <tr>\n",
       "      <th>2011</th>\n",
       "      <td>2052</td>\n",
       "      <td>message</td>\n",
       "      <td>2021-03-24T09:14:53</td>\n",
       "      <td>NaN</td>\n",
       "      <td>NaN</td>\n",
       "      <td>NaN</td>\n",
       "      <td>NaN</td>\n",
       "      <td>[🆘 Пользователь наказан командой ban\\n917036a2-8087-4607-94fa-60b632b866f7\\n\\n, {'type': 'code', 'text': '...</td>\n",
       "      <td>Журнал НИ</td>\n",
       "      <td>9.802778e+09</td>\n",
       "    </tr>\n",
       "    <tr>\n",
       "      <th>2012</th>\n",
       "      <td>2053</td>\n",
       "      <td>message</td>\n",
       "      <td>2021-03-24T09:18:28</td>\n",
       "      <td>NaN</td>\n",
       "      <td>NaN</td>\n",
       "      <td>NaN</td>\n",
       "      <td>NaN</td>\n",
       "      <td>[🆘 Пользователь наказан командой ban\\n4502aa45-f47b-4415-891b-5baf3368fde1\\n\\n, {'type': 'code', 'text': '...</td>\n",
       "      <td>Журнал НИ</td>\n",
       "      <td>9.802778e+09</td>\n",
       "    </tr>\n",
       "  </tbody>\n",
       "</table>\n",
       "</div>"
      ],
      "text/plain": [
       "        id     type                 date actor  actor_id action title  \\\n",
       "2003  2044  message  2021-03-23T13:22:14   NaN       NaN    NaN   NaN   \n",
       "2004  2045  message  2021-03-23T15:26:59   NaN       NaN    NaN   NaN   \n",
       "2005  2046  message  2021-03-23T21:30:20   NaN       NaN    NaN   NaN   \n",
       "2006  2047  message  2021-03-23T21:34:33   NaN       NaN    NaN   NaN   \n",
       "2007  2048  message  2021-03-24T09:12:42   NaN       NaN    NaN   NaN   \n",
       "2008  2049  message  2021-03-24T09:13:01   NaN       NaN    NaN   NaN   \n",
       "2009  2050  message  2021-03-24T09:14:22   NaN       NaN    NaN   NaN   \n",
       "2010  2051  message  2021-03-24T09:14:32   NaN       NaN    NaN   NaN   \n",
       "2011  2052  message  2021-03-24T09:14:53   NaN       NaN    NaN   NaN   \n",
       "2012  2053  message  2021-03-24T09:18:28   NaN       NaN    NaN   NaN   \n",
       "\n",
       "                                                                                                               text  \\\n",
       "2003  [🆘 Пользователь наказан командой mute\\n1c565fd4-fff4-4d57-a7e1-e88444b10d3a\\n\\n, {'type': 'code', 'text': ...   \n",
       "2004  [🆘 Пользователь наказан командой mute\\n17aa7c06-b7bb-4ecc-a0f2-9beda0594b9c\\n\\n, {'type': 'code', 'text': ...   \n",
       "2005  [🆔 , {'type': 'hashtag', 'text': '#НовыйПользователь'},  , {'type': 'hashtag', 'text': '#новыйпользователь...   \n",
       "2006  [⚙️ , {'type': 'hashtag', 'text': '#Настройки'},  Пользователь изменил настройки группы , {'type': 'hashta...   \n",
       "2007  [🆔 , {'type': 'hashtag', 'text': '#НовыйПользователь'},  , {'type': 'hashtag', 'text': '#новыйпользователь...   \n",
       "2008  [✅ Пользователь прошедший проверку разблокирован , {'type': 'hashtag', 'text': '#запрос'}, \\n133e204a-8a1b...   \n",
       "2009  [🆘 Пользователь наказан командой ban\\n6ae21a32-1bdf-47c5-a940-f2b13181e8aa\\n\\n, {'type': 'code', 'text': '...   \n",
       "2010  [🆘 Пользователь наказан командой ban\\n63942221-6053-4e57-af28-b0b54d7f7bc1\\n\\n, {'type': 'code', 'text': '...   \n",
       "2011  [🆘 Пользователь наказан командой ban\\n917036a2-8087-4607-94fa-60b632b866f7\\n\\n, {'type': 'code', 'text': '...   \n",
       "2012  [🆘 Пользователь наказан командой ban\\n4502aa45-f47b-4415-891b-5baf3368fde1\\n\\n, {'type': 'code', 'text': '...   \n",
       "\n",
       "           from       from_id  \n",
       "2003  Журнал НИ  9.802778e+09  \n",
       "2004  Журнал НИ  9.802778e+09  \n",
       "2005  Журнал НИ  9.802778e+09  \n",
       "2006  Журнал НИ  9.802778e+09  \n",
       "2007  Журнал НИ  9.802778e+09  \n",
       "2008  Журнал НИ  9.802778e+09  \n",
       "2009  Журнал НИ  9.802778e+09  \n",
       "2010  Журнал НИ  9.802778e+09  \n",
       "2011  Журнал НИ  9.802778e+09  \n",
       "2012  Журнал НИ  9.802778e+09  "
      ]
     },
     "execution_count": 14,
     "metadata": {},
     "output_type": "execute_result"
    }
   ],
   "source": [
    "spam_raw2 = pd.json_normalize(spam_raw['messages'])\n",
    "pd.set_option('display.max_columns', 50)\n",
    "spam_raw2.tail(10)"
   ]
  },
  {
   "cell_type": "code",
   "execution_count": 15,
   "metadata": {
    "ExecuteTime": {
     "end_time": "2021-04-04T14:22:30.272847Z",
     "start_time": "2021-04-04T14:22:30.257723Z"
    }
   },
   "outputs": [
    {
     "data": {
      "text/plain": [
       "Index(['id', 'type', 'date', 'actor', 'actor_id', 'action', 'title', 'text',\n",
       "       'from', 'from_id'],\n",
       "      dtype='object')"
      ]
     },
     "execution_count": 15,
     "metadata": {},
     "output_type": "execute_result"
    }
   ],
   "source": [
    "spam_raw2.columns"
   ]
  },
  {
   "cell_type": "code",
   "execution_count": 16,
   "metadata": {
    "ExecuteTime": {
     "end_time": "2021-04-04T14:22:30.287918Z",
     "start_time": "2021-04-04T14:22:30.274884Z"
    }
   },
   "outputs": [
    {
     "name": "stdout",
     "output_type": "stream",
     "text": [
      "type ['service' 'message']\n",
      "actor ['Журнал НИ' nan]\n",
      "actor_id [9.80277823e+09            nan]\n",
      "action ['create_channel' nan]\n",
      "title ['Журнал НИ' nan]\n",
      "from [nan 'Журнал НИ']\n",
      "from_id [           nan 9.80277823e+09]\n"
     ]
    }
   ],
   "source": [
    "for col in ['type', 'actor', 'actor_id', 'action', 'title', 'from', 'from_id']:\n",
    "    print(col, spam_raw2[col].unique())"
   ]
  },
  {
   "cell_type": "code",
   "execution_count": 17,
   "metadata": {
    "ExecuteTime": {
     "end_time": "2021-04-04T14:22:30.350919Z",
     "start_time": "2021-04-04T14:22:30.288921Z"
    }
   },
   "outputs": [
    {
     "data": {
      "text/plain": [
       "1998    [🆘 Пользователь наказан командой mute\\nd5bce06f-b34c-4994-8aea-0692697036d2\\n\\n, {'type': 'code', 'text': ...\n",
       "1999    [🆘 Пользователь наказан командой mute\\n3e7a9f94-d819-4e23-9174-f78cf59990e0\\n\\n, {'type': 'code', 'text': ...\n",
       "2000    [🆘 Пользователь наказан командой mute\\n577e6a18-48bb-4c13-9c89-a7c240574859\\n\\n, {'type': 'code', 'text': ...\n",
       "2001    [🆔 , {'type': 'hashtag', 'text': '#НовыйПользователь'},  , {'type': 'hashtag', 'text': '#новыйпользователь...\n",
       "2002    [✅ Пользователь прошедший проверку разблокирован , {'type': 'hashtag', 'text': '#запрос'}, \\n09698fee-2773...\n",
       "2003    [🆘 Пользователь наказан командой mute\\n1c565fd4-fff4-4d57-a7e1-e88444b10d3a\\n\\n, {'type': 'code', 'text': ...\n",
       "2004    [🆘 Пользователь наказан командой mute\\n17aa7c06-b7bb-4ecc-a0f2-9beda0594b9c\\n\\n, {'type': 'code', 'text': ...\n",
       "2005    [🆔 , {'type': 'hashtag', 'text': '#НовыйПользователь'},  , {'type': 'hashtag', 'text': '#новыйпользователь...\n",
       "2006    [⚙️ , {'type': 'hashtag', 'text': '#Настройки'},  Пользователь изменил настройки группы , {'type': 'hashta...\n",
       "2007    [🆔 , {'type': 'hashtag', 'text': '#НовыйПользователь'},  , {'type': 'hashtag', 'text': '#новыйпользователь...\n",
       "2008    [✅ Пользователь прошедший проверку разблокирован , {'type': 'hashtag', 'text': '#запрос'}, \\n133e204a-8a1b...\n",
       "2009    [🆘 Пользователь наказан командой ban\\n6ae21a32-1bdf-47c5-a940-f2b13181e8aa\\n\\n, {'type': 'code', 'text': '...\n",
       "2010    [🆘 Пользователь наказан командой ban\\n63942221-6053-4e57-af28-b0b54d7f7bc1\\n\\n, {'type': 'code', 'text': '...\n",
       "2011    [🆘 Пользователь наказан командой ban\\n917036a2-8087-4607-94fa-60b632b866f7\\n\\n, {'type': 'code', 'text': '...\n",
       "2012    [🆘 Пользователь наказан командой ban\\n4502aa45-f47b-4415-891b-5baf3368fde1\\n\\n, {'type': 'code', 'text': '...\n",
       "Name: text, dtype: object"
      ]
     },
     "execution_count": 17,
     "metadata": {},
     "output_type": "execute_result"
    }
   ],
   "source": [
    "spam_raw3 = spam_raw2['text']\n",
    "spam_raw3.tail(15)"
   ]
  },
  {
   "cell_type": "code",
   "execution_count": 18,
   "metadata": {
    "ExecuteTime": {
     "end_time": "2021-04-04T14:22:30.366920Z",
     "start_time": "2021-04-04T14:22:30.352919Z"
    },
    "scrolled": true
   },
   "outputs": [
    {
     "data": {
      "text/plain": [
       "['🆘 Пользователь наказан командой mute\\n1c565fd4-fff4-4d57-a7e1-e88444b10d3a\\n\\n',\n",
       " {'type': 'code', 'text': 'Sunlighter'},\n",
       " ' [',\n",
       " {'type': 'mention', 'text': '@sunlighter'},\n",
       " '] [',\n",
       " {'type': 'hashtag', 'text': '#user1177305831'},\n",
       " '] ',\n",
       " {'type': 'italic', 'text': 'ограничил возможность писать сообщения'},\n",
       " ' ',\n",
       " {'type': 'code', 'text': 'МГТС'},\n",
       " ' [',\n",
       " {'type': 'mention_name', 'text': '1176395792', 'user_id': 1176395792},\n",
       " '] [',\n",
       " {'type': 'hashtag', 'text': '#user1176395792'},\n",
       " '] на 24 часов\\n\\n\\n\\n',\n",
       " {'type': 'bold', 'text': 'Группа:'},\n",
       " ' ',\n",
       " {'type': 'code', 'text': 'Новое Измайлово'},\n",
       " ' [',\n",
       " {'type': 'mention', 'text': '@new_izmailovo'},\n",
       " '] [',\n",
       " {'type': 'hashtag', 'text': '#chat1001077014744'},\n",
       " ']\\n',\n",
       " {'type': 'bold', 'text': 'Инициатор:'},\n",
       " ' ',\n",
       " {'type': 'code', 'text': 'Sunlighter'},\n",
       " ' [',\n",
       " {'type': 'mention', 'text': '@sunlighter'},\n",
       " '] [',\n",
       " {'type': 'hashtag', 'text': '#user1177305831'},\n",
       " ']\\n',\n",
       " {'type': 'bold', 'text': 'Пользователь:'},\n",
       " ' ',\n",
       " {'type': 'code', 'text': 'МГТС'},\n",
       " ' [',\n",
       " {'type': 'mention_name', 'text': '1176395792', 'user_id': 1176395792},\n",
       " '] [',\n",
       " {'type': 'hashtag', 'text': '#user1176395792'},\n",
       " ']\\n',\n",
       " {'type': 'bold', 'text': 'Наказание:'},\n",
       " ' ',\n",
       " {'type': 'bold', 'text': 'Запрещено писать'},\n",
       " '\\nВремя: 23 марта 2021 г. 10:22:14 UTC\\n\\n',\n",
       " {'type': 'bold', 'text': 'Сообщение пользователя:'},\n",
       " ' ',\n",
       " {'type': 'code', 'text': 'МГТС'},\n",
       " ' [',\n",
       " {'type': 'mention_name', 'text': '1176395792', 'user_id': 1176395792},\n",
       " '] [',\n",
       " {'type': 'hashtag', 'text': '#user1176395792'},\n",
       " ']\\n\\n',\n",
       " {'type': 'code',\n",
       "  'text': 'Интернет от 300 Мбит/с + бесплатный роутер \\nЗвонить с 09:00 до 24:00 без выходных.МГТС/МТС home\\nТелефон: +7(499)2380071'},\n",
       " '']"
      ]
     },
     "execution_count": 18,
     "metadata": {},
     "output_type": "execute_result"
    }
   ],
   "source": [
    "spam_raw3.iloc[2003]"
   ]
  },
  {
   "cell_type": "code",
   "execution_count": 19,
   "metadata": {
    "ExecuteTime": {
     "end_time": "2021-04-04T14:22:30.382925Z",
     "start_time": "2021-04-04T14:22:30.369922Z"
    },
    "scrolled": true
   },
   "outputs": [
    {
     "data": {
      "text/plain": [
       "'Интернет от 300 Мбит/с + бесплатный роутер \\nЗвонить с 09:00 до 24:00 без выходных.МГТС/МТС home\\nТелефон: +7(499)2380071'"
      ]
     },
     "execution_count": 19,
     "metadata": {},
     "output_type": "execute_result"
    }
   ],
   "source": [
    "clean_msg(spam_raw3.iloc[2003])"
   ]
  },
  {
   "cell_type": "code",
   "execution_count": 20,
   "metadata": {
    "ExecuteTime": {
     "end_time": "2021-04-04T14:22:30.414919Z",
     "start_time": "2021-04-04T14:22:30.385922Z"
    },
    "scrolled": true
   },
   "outputs": [
    {
     "data": {
      "text/plain": [
       "2003    Интернет от 300 Мбит/с + бесплатный роутер \\nЗвонить с 09:00 до 24:00 без выходных.МГТС/МТС home\\nТелефон:...\n",
       "2004    Здравствуйте! Услуги Психолога!\\n\\nПсихолог с высшим образованием и практикой более 10 лет предлагаю услуг...\n",
       "2005                                                                                                             None\n",
       "2006                                                                                                             None\n",
       "2007                                                                                                             None\n",
       "2008                                                                                                             None\n",
       "2009                                                                                                             None\n",
       "2010                                                                                                             None\n",
       "2011                                                                                                             None\n",
       "2012                                                                                                             None\n",
       "Name: text, dtype: object"
      ]
     },
     "execution_count": 20,
     "metadata": {},
     "output_type": "execute_result"
    }
   ],
   "source": [
    "spam = spam_raw3.apply(clean_msg)\n",
    "spam.tail(10)"
   ]
  },
  {
   "cell_type": "code",
   "execution_count": 21,
   "metadata": {
    "ExecuteTime": {
     "end_time": "2021-04-04T14:22:30.430919Z",
     "start_time": "2021-04-04T14:22:30.417920Z"
    },
    "scrolled": true
   },
   "outputs": [],
   "source": [
    "# извлечение из json текста, удаление строк (сообщений) без текста,\n",
    "# обновление индекса после удаление строк (индекс теперь по порядку)\n",
    "spam = spam_raw3.apply(clean_msg).dropna().reset_index(drop=True)"
   ]
  },
  {
   "cell_type": "code",
   "execution_count": 22,
   "metadata": {
    "ExecuteTime": {
     "end_time": "2021-04-04T14:22:30.446917Z",
     "start_time": "2021-04-04T14:22:30.436919Z"
    },
    "scrolled": true
   },
   "outputs": [
    {
     "data": {
      "text/plain": [
       "0                                                                                                                   \n",
       "1                                                                             Канал успешно добавлен в журнал группы\n",
       "2         Добрый вечер!Предлагаю услуги няни.Свободно до 1 сентября.без вредных привычек.Опыт большой  ,люблю детей.\n",
       "3      Приветствую 🙂\\nКУПЛЮ ОДНОКОМНАТНУЮ (от 38м) квартиру в Новом Измайлово\\nс ремонтом, мебелью, бытовой техни...\n",
       "4                                                  Черничка\\nДоставка черники по Балашихе\\nhttps://t.me/chernichka03\n",
       "                                                           ...                                                      \n",
       "182    Добрый день скоро открытия огромного магазина для мастеров и любителей ,для парикмахеров и салонов красоты...\n",
       "183                                                                      https://t.me/MoscowskyPravdorub/1470?single\n",
       "184                                                                                           Большой выбор ждём вас\n",
       "185    Интернет от 300 Мбит/с + бесплатный роутер \\nЗвонить с 09:00 до 24:00 без выходных.МГТС/МТС home\\nТелефон:...\n",
       "186    Здравствуйте! Услуги Психолога!\\n\\nПсихолог с высшим образованием и практикой более 10 лет предлагаю услуг...\n",
       "Name: text, Length: 187, dtype: object"
      ]
     },
     "execution_count": 22,
     "metadata": {},
     "output_type": "execute_result"
    }
   ],
   "source": [
    "spam"
   ]
  },
  {
   "cell_type": "markdown",
   "metadata": {},
   "source": [
    "## Получение объединённого датасета"
   ]
  },
  {
   "cell_type": "code",
   "execution_count": 23,
   "metadata": {
    "ExecuteTime": {
     "end_time": "2021-04-04T14:22:30.477916Z",
     "start_time": "2021-04-04T14:22:30.449917Z"
    }
   },
   "outputs": [
    {
     "data": {
      "text/html": [
       "<div>\n",
       "<style scoped>\n",
       "    .dataframe tbody tr th:only-of-type {\n",
       "        vertical-align: middle;\n",
       "    }\n",
       "\n",
       "    .dataframe tbody tr th {\n",
       "        vertical-align: top;\n",
       "    }\n",
       "\n",
       "    .dataframe thead th {\n",
       "        text-align: right;\n",
       "    }\n",
       "</style>\n",
       "<table border=\"1\" class=\"dataframe\">\n",
       "  <thead>\n",
       "    <tr style=\"text-align: right;\">\n",
       "      <th></th>\n",
       "      <th>msg</th>\n",
       "      <th>spam</th>\n",
       "    </tr>\n",
       "  </thead>\n",
       "  <tbody>\n",
       "    <tr>\n",
       "      <th>0</th>\n",
       "      <td>Всем ✋🏻</td>\n",
       "      <td>0</td>\n",
       "    </tr>\n",
       "    <tr>\n",
       "      <th>1</th>\n",
       "      <td>Это супергруппа. А это значит что админ может редактировать и удалять любые сообщения. Пользователи могут ...</td>\n",
       "      <td>0</td>\n",
       "    </tr>\n",
       "    <tr>\n",
       "      <th>2</th>\n",
       "      <td>/</td>\n",
       "      <td>0</td>\n",
       "    </tr>\n",
       "    <tr>\n",
       "      <th>3</th>\n",
       "      <td>не пугайтесь, немного почистил мусор)</td>\n",
       "      <td>0</td>\n",
       "    </tr>\n",
       "    <tr>\n",
       "      <th>4</th>\n",
       "      <td>Всем привет)</td>\n",
       "      <td>0</td>\n",
       "    </tr>\n",
       "    <tr>\n",
       "      <th>...</th>\n",
       "      <td>...</td>\n",
       "      <td>...</td>\n",
       "    </tr>\n",
       "    <tr>\n",
       "      <th>54569</th>\n",
       "      <td>Добрый день скоро открытия огромного магазина для мастеров и любителей ,для парикмахеров и салонов красоты...</td>\n",
       "      <td>1</td>\n",
       "    </tr>\n",
       "    <tr>\n",
       "      <th>54570</th>\n",
       "      <td>https://t.me/MoscowskyPravdorub/1470?single</td>\n",
       "      <td>1</td>\n",
       "    </tr>\n",
       "    <tr>\n",
       "      <th>54571</th>\n",
       "      <td>Большой выбор ждём вас</td>\n",
       "      <td>1</td>\n",
       "    </tr>\n",
       "    <tr>\n",
       "      <th>54572</th>\n",
       "      <td>Интернет от 300 Мбит/с + бесплатный роутер \\nЗвонить с 09:00 до 24:00 без выходных.МГТС/МТС home\\nТелефон:...</td>\n",
       "      <td>1</td>\n",
       "    </tr>\n",
       "    <tr>\n",
       "      <th>54573</th>\n",
       "      <td>Здравствуйте! Услуги Психолога!\\n\\nПсихолог с высшим образованием и практикой более 10 лет предлагаю услуг...</td>\n",
       "      <td>1</td>\n",
       "    </tr>\n",
       "  </tbody>\n",
       "</table>\n",
       "<p>54574 rows × 2 columns</p>\n",
       "</div>"
      ],
      "text/plain": [
       "                                                                                                                 msg  \\\n",
       "0                                                                                                            Всем ✋🏻   \n",
       "1      Это супергруппа. А это значит что админ может редактировать и удалять любые сообщения. Пользователи могут ...   \n",
       "2                                                                                                                  /   \n",
       "3                                                                              не пугайтесь, немного почистил мусор)   \n",
       "4                                                                                                       Всем привет)   \n",
       "...                                                                                                              ...   \n",
       "54569  Добрый день скоро открытия огромного магазина для мастеров и любителей ,для парикмахеров и салонов красоты...   \n",
       "54570                                                                    https://t.me/MoscowskyPravdorub/1470?single   \n",
       "54571                                                                                         Большой выбор ждём вас   \n",
       "54572  Интернет от 300 Мбит/с + бесплатный роутер \\nЗвонить с 09:00 до 24:00 без выходных.МГТС/МТС home\\nТелефон:...   \n",
       "54573  Здравствуйте! Услуги Психолога!\\n\\nПсихолог с высшим образованием и практикой более 10 лет предлагаю услуг...   \n",
       "\n",
       "       spam  \n",
       "0         0  \n",
       "1         0  \n",
       "2         0  \n",
       "3         0  \n",
       "4         0  \n",
       "...     ...  \n",
       "54569     1  \n",
       "54570     1  \n",
       "54571     1  \n",
       "54572     1  \n",
       "54573     1  \n",
       "\n",
       "[54574 rows x 2 columns]"
      ]
     },
     "execution_count": 23,
     "metadata": {},
     "output_type": "execute_result"
    }
   ],
   "source": [
    "# Series -> DataFrame\n",
    "ham_df = ham.to_frame('msg')\n",
    "# создание нового столбца с категорией спам / не спам\n",
    "ham_df['spam'] = 0\n",
    "\n",
    "spam_df = spam.to_frame('msg')\n",
    "spam_df['spam'] = 1\n",
    "\n",
    "# конкатенация датафреймов\n",
    "df = pd.concat([ham_df, spam_df], axis=0, ignore_index=True)\n",
    "df"
   ]
  },
  {
   "cell_type": "code",
   "execution_count": 24,
   "metadata": {
    "ExecuteTime": {
     "end_time": "2021-04-04T14:22:30.730471Z",
     "start_time": "2021-04-04T14:22:30.479920Z"
    }
   },
   "outputs": [],
   "source": [
    "X_train, X_test, y_train, y_test = train_test_split(df.drop('spam', 1), \n",
    "                                                    df['spam'], random_state=0)\n",
    "#save test\n",
    "X_test.to_csv(\"X_test_spam.csv\", index=None)\n",
    "y_test.to_csv(\"y_test_spam.csv\", index=None)\n",
    "#save train\n",
    "X_train.to_csv(\"X_train_spam.csv\", index=None)\n",
    "y_train.to_csv(\"y_train_spam.csv\", index=None)"
   ]
  },
  {
   "cell_type": "code",
   "execution_count": 25,
   "metadata": {
    "ExecuteTime": {
     "end_time": "2021-04-04T14:22:30.746435Z",
     "start_time": "2021-04-04T14:22:30.732431Z"
    }
   },
   "outputs": [
    {
     "data": {
      "text/html": [
       "<div>\n",
       "<style scoped>\n",
       "    .dataframe tbody tr th:only-of-type {\n",
       "        vertical-align: middle;\n",
       "    }\n",
       "\n",
       "    .dataframe tbody tr th {\n",
       "        vertical-align: top;\n",
       "    }\n",
       "\n",
       "    .dataframe thead th {\n",
       "        text-align: right;\n",
       "    }\n",
       "</style>\n",
       "<table border=\"1\" class=\"dataframe\">\n",
       "  <thead>\n",
       "    <tr style=\"text-align: right;\">\n",
       "      <th></th>\n",
       "      <th>msg</th>\n",
       "    </tr>\n",
       "  </thead>\n",
       "  <tbody>\n",
       "    <tr>\n",
       "      <th>3856</th>\n",
       "      <td>Они в один месяц не учли показания (программа сбойнула, не загрузилось с сайта, не туда посмотрели) и у ва...</td>\n",
       "    </tr>\n",
       "    <tr>\n",
       "      <th>40894</th>\n",
       "      <td>Раз в час примерно, первая в районе 7 утра уходит.</td>\n",
       "    </tr>\n",
       "    <tr>\n",
       "      <th>7915</th>\n",
       "      <td>Это же гениально! 😂отличная идея!)))</td>\n",
       "    </tr>\n",
       "    <tr>\n",
       "      <th>25371</th>\n",
       "      <td>Да непонятно, в доброделе отвечают — проведите ОСС и сами залейте)</td>\n",
       "    </tr>\n",
       "    <tr>\n",
       "      <th>40093</th>\n",
       "      <td>Может одна новая, пробега мало, а вторая загаженная</td>\n",
       "    </tr>\n",
       "    <tr>\n",
       "      <th>...</th>\n",
       "      <td>...</td>\n",
       "    </tr>\n",
       "    <tr>\n",
       "      <th>45891</th>\n",
       "      <td>Спасибо 😀</td>\n",
       "    </tr>\n",
       "    <tr>\n",
       "      <th>52416</th>\n",
       "      <td>А разве заставляют?</td>\n",
       "    </tr>\n",
       "    <tr>\n",
       "      <th>42613</th>\n",
       "      <td>Не то футбольный праздник, не то свадьба в Чечне.</td>\n",
       "    </tr>\n",
       "    <tr>\n",
       "      <th>43567</th>\n",
       "      <td>А чат собаководов есть?</td>\n",
       "    </tr>\n",
       "    <tr>\n",
       "      <th>2732</th>\n",
       "      <td>Отправьте в добродел, отличный ракурс</td>\n",
       "    </tr>\n",
       "  </tbody>\n",
       "</table>\n",
       "<p>40930 rows × 1 columns</p>\n",
       "</div>"
      ],
      "text/plain": [
       "                                                                                                                 msg\n",
       "3856   Они в один месяц не учли показания (программа сбойнула, не загрузилось с сайта, не туда посмотрели) и у ва...\n",
       "40894                                                             Раз в час примерно, первая в районе 7 утра уходит.\n",
       "7915                                                                            Это же гениально! 😂отличная идея!)))\n",
       "25371                                             Да непонятно, в доброделе отвечают — проведите ОСС и сами залейте)\n",
       "40093                                                            Может одна новая, пробега мало, а вторая загаженная\n",
       "...                                                                                                              ...\n",
       "45891                                                                                                      Спасибо 😀\n",
       "52416                                                                                            А разве заставляют?\n",
       "42613                                                              Не то футбольный праздник, не то свадьба в Чечне.\n",
       "43567                                                                                        А чат собаководов есть?\n",
       "2732                                                                           Отправьте в добродел, отличный ракурс\n",
       "\n",
       "[40930 rows x 1 columns]"
      ]
     },
     "execution_count": 25,
     "metadata": {},
     "output_type": "execute_result"
    }
   ],
   "source": [
    "X_train"
   ]
  },
  {
   "cell_type": "code",
   "execution_count": 26,
   "metadata": {
    "ExecuteTime": {
     "end_time": "2021-04-04T14:22:30.762431Z",
     "start_time": "2021-04-04T14:22:30.747432Z"
    }
   },
   "outputs": [],
   "source": [
    "class ColumnSelector(BaseEstimator, TransformerMixin):\n",
    "    \"\"\"\n",
    "    Transformer to select a single column from the data frame to perform additional transformations on\n",
    "    \"\"\"\n",
    "    def __init__(self, key):\n",
    "        self.key = key\n",
    "\n",
    "    def fit(self, X, y=None):\n",
    "        return self\n",
    "\n",
    "    def transform(self, X):\n",
    "        return X[self.key]\n",
    "    \n",
    "class TextImputer(BaseEstimator, TransformerMixin):\n",
    "    def __init__(self, key, value):\n",
    "        self.key = key\n",
    "        self.value = value\n",
    "    def fit(self, X, y=None):\n",
    "        return self\n",
    "    def transform(self, X):\n",
    "        X[self.key] = X[self.key].fillna(self.value)\n",
    "        return X"
   ]
  },
  {
   "cell_type": "code",
   "execution_count": 27,
   "metadata": {
    "ExecuteTime": {
     "end_time": "2021-04-04T14:22:30.778505Z",
     "start_time": "2021-04-04T14:22:30.764433Z"
    }
   },
   "outputs": [],
   "source": [
    "features = ['msg']\n",
    "target = 'spam'"
   ]
  },
  {
   "cell_type": "code",
   "execution_count": 28,
   "metadata": {
    "ExecuteTime": {
     "end_time": "2021-04-04T14:22:30.793729Z",
     "start_time": "2021-04-04T14:22:30.780634Z"
    }
   },
   "outputs": [],
   "source": [
    "#combine\n",
    "msg = Pipeline([\n",
    "                ('imputer', TextImputer('msg', '')),\n",
    "                ('selector', ColumnSelector(key='msg')),\n",
    "                ('tfidf', TfidfVectorizer(max_df=0.9, min_df=10))\n",
    "            ])\n",
    "\n",
    "feats = FeatureUnion([('msg', msg)])"
   ]
  },
  {
   "cell_type": "code",
   "execution_count": 29,
   "metadata": {
    "ExecuteTime": {
     "end_time": "2021-04-04T14:22:31.631929Z",
     "start_time": "2021-04-04T14:22:30.794648Z"
    }
   },
   "outputs": [
    {
     "name": "stdout",
     "output_type": "stream",
     "text": [
      "Wall time: 723 ms\n"
     ]
    },
    {
     "data": {
      "text/plain": [
       "Pipeline(steps=[('features',\n",
       "                 FeatureUnion(transformer_list=[('msg',\n",
       "                                                 Pipeline(steps=[('imputer',\n",
       "                                                                  TextImputer(key='msg',\n",
       "                                                                              value='')),\n",
       "                                                                 ('selector',\n",
       "                                                                  ColumnSelector(key='msg')),\n",
       "                                                                 ('tfidf',\n",
       "                                                                  TfidfVectorizer(max_df=0.9,\n",
       "                                                                                  min_df=10))]))])),\n",
       "                ('classifier', LogisticRegression())])"
      ]
     },
     "execution_count": 29,
     "metadata": {},
     "output_type": "execute_result"
    }
   ],
   "source": [
    "%%time\n",
    "\n",
    "pipeline = Pipeline([\n",
    "    ('features',feats),\n",
    "    ('classifier', LogisticRegression()),\n",
    "])\n",
    "\n",
    "pipeline.fit(X_train, y_train)"
   ]
  },
  {
   "cell_type": "markdown",
   "metadata": {},
   "source": [
    "Посмотрим, как выглядит наш pipeline"
   ]
  },
  {
   "cell_type": "code",
   "execution_count": 30,
   "metadata": {
    "ExecuteTime": {
     "end_time": "2021-04-04T14:22:31.663926Z",
     "start_time": "2021-04-04T14:22:31.633928Z"
    }
   },
   "outputs": [
    {
     "data": {
      "text/plain": [
       "[('features',\n",
       "  FeatureUnion(transformer_list=[('msg',\n",
       "                                  Pipeline(steps=[('imputer',\n",
       "                                                   TextImputer(key='msg',\n",
       "                                                               value='')),\n",
       "                                                  ('selector',\n",
       "                                                   ColumnSelector(key='msg')),\n",
       "                                                  ('tfidf',\n",
       "                                                   TfidfVectorizer(max_df=0.9,\n",
       "                                                                   min_df=10))]))])),\n",
       " ('classifier', LogisticRegression())]"
      ]
     },
     "execution_count": 30,
     "metadata": {},
     "output_type": "execute_result"
    }
   ],
   "source": [
    "pipeline.steps"
   ]
  },
  {
   "cell_type": "code",
   "execution_count": 31,
   "metadata": {
    "ExecuteTime": {
     "end_time": "2021-04-04T14:22:31.902424Z",
     "start_time": "2021-04-04T14:22:31.664926Z"
    }
   },
   "outputs": [],
   "source": [
    "predictions = pipeline.predict_proba(X_test)\n",
    "#pd.DataFrame({'preds': predictions[:, 1]}).to_csv(\"test_predictions.csv\", index=None)"
   ]
  },
  {
   "cell_type": "code",
   "execution_count": 32,
   "metadata": {
    "ExecuteTime": {
     "end_time": "2021-04-04T14:22:31.917424Z",
     "start_time": "2021-04-04T14:22:31.903426Z"
    }
   },
   "outputs": [
    {
     "data": {
      "text/plain": [
       "48502    0\n",
       "48785    0\n",
       "40039    0\n",
       "40399    0\n",
       "50011    0\n",
       "        ..\n",
       "27058    0\n",
       "16446    0\n",
       "42301    0\n",
       "11306    0\n",
       "31998    0\n",
       "Name: spam, Length: 13644, dtype: int64"
      ]
     },
     "execution_count": 32,
     "metadata": {},
     "output_type": "execute_result"
    }
   ],
   "source": [
    "y_test"
   ]
  },
  {
   "cell_type": "code",
   "execution_count": 33,
   "metadata": {
    "ExecuteTime": {
     "end_time": "2021-04-04T14:22:31.933424Z",
     "start_time": "2021-04-04T14:22:31.918425Z"
    }
   },
   "outputs": [
    {
     "data": {
      "text/plain": [
       "array([0.00166743, 0.00600112, 0.00191033, ..., 0.0022781 , 0.00163441,\n",
       "       0.00238243])"
      ]
     },
     "execution_count": 33,
     "metadata": {},
     "output_type": "execute_result"
    }
   ],
   "source": [
    "predictions[:, 1][:]"
   ]
  },
  {
   "cell_type": "code",
   "execution_count": 34,
   "metadata": {
    "ExecuteTime": {
     "end_time": "2021-04-04T14:22:31.949426Z",
     "start_time": "2021-04-04T14:22:31.935426Z"
    }
   },
   "outputs": [
    {
     "data": {
      "text/plain": [
       "0.9552632018716577"
      ]
     },
     "execution_count": 34,
     "metadata": {},
     "output_type": "execute_result"
    }
   ],
   "source": [
    "roc_auc_score(y_score=predictions[:, 1], y_true=y_test)"
   ]
  },
  {
   "cell_type": "code",
   "execution_count": 35,
   "metadata": {
    "ExecuteTime": {
     "end_time": "2021-04-04T14:22:31.965426Z",
     "start_time": "2021-04-04T14:22:31.951446Z"
    }
   },
   "outputs": [
    {
     "data": {
      "text/plain": [
       "0.0"
      ]
     },
     "execution_count": 35,
     "metadata": {},
     "output_type": "execute_result"
    }
   ],
   "source": [
    "f1_score(predictions[:, 1].round(), y_test)"
   ]
  },
  {
   "cell_type": "code",
   "execution_count": 36,
   "metadata": {
    "ExecuteTime": {
     "end_time": "2021-04-04T14:22:31.981427Z",
     "start_time": "2021-04-04T14:22:31.967426Z"
    }
   },
   "outputs": [
    {
     "data": {
      "text/plain": [
       "0.0"
      ]
     },
     "execution_count": 36,
     "metadata": {},
     "output_type": "execute_result"
    }
   ],
   "source": [
    "precision_score(predictions[:, 1].round(), y_test)"
   ]
  },
  {
   "cell_type": "code",
   "execution_count": 37,
   "metadata": {
    "ExecuteTime": {
     "end_time": "2021-04-04T14:22:31.997427Z",
     "start_time": "2021-04-04T14:22:31.984431Z"
    }
   },
   "outputs": [
    {
     "name": "stderr",
     "output_type": "stream",
     "text": [
      "C:\\Users\\Alex\\Anaconda3\\lib\\site-packages\\sklearn\\metrics\\_classification.py:1221: UndefinedMetricWarning: Recall is ill-defined and being set to 0.0 due to no true samples. Use `zero_division` parameter to control this behavior.\n",
      "  _warn_prf(average, modifier, msg_start, len(result))\n"
     ]
    },
    {
     "data": {
      "text/plain": [
       "0.0"
      ]
     },
     "execution_count": 37,
     "metadata": {},
     "output_type": "execute_result"
    }
   ],
   "source": [
    "recall_score(predictions[:, 1].round(), y_test)"
   ]
  },
  {
   "cell_type": "code",
   "execution_count": 38,
   "metadata": {
    "ExecuteTime": {
     "end_time": "2021-04-04T14:22:32.028426Z",
     "start_time": "2021-04-04T14:22:31.999428Z"
    }
   },
   "outputs": [
    {
     "data": {
      "text/html": [
       "<div>\n",
       "<style scoped>\n",
       "    .dataframe tbody tr th:only-of-type {\n",
       "        vertical-align: middle;\n",
       "    }\n",
       "\n",
       "    .dataframe tbody tr th {\n",
       "        vertical-align: top;\n",
       "    }\n",
       "\n",
       "    .dataframe thead th {\n",
       "        text-align: right;\n",
       "    }\n",
       "</style>\n",
       "<table border=\"1\" class=\"dataframe\">\n",
       "  <thead>\n",
       "    <tr style=\"text-align: right;\">\n",
       "      <th></th>\n",
       "      <th>msg</th>\n",
       "      <th>spam</th>\n",
       "      <th>prob</th>\n",
       "    </tr>\n",
       "  </thead>\n",
       "  <tbody>\n",
       "    <tr>\n",
       "      <th>0</th>\n",
       "      <td>Всем ✋🏻</td>\n",
       "      <td>0</td>\n",
       "      <td>0.001667</td>\n",
       "    </tr>\n",
       "    <tr>\n",
       "      <th>1</th>\n",
       "      <td>Это супергруппа. А это значит что админ может редактировать и удалять любые сообщения. Пользователи могут ...</td>\n",
       "      <td>0</td>\n",
       "      <td>0.006001</td>\n",
       "    </tr>\n",
       "    <tr>\n",
       "      <th>2</th>\n",
       "      <td>/</td>\n",
       "      <td>0</td>\n",
       "      <td>0.001910</td>\n",
       "    </tr>\n",
       "    <tr>\n",
       "      <th>3</th>\n",
       "      <td>не пугайтесь, немного почистил мусор)</td>\n",
       "      <td>0</td>\n",
       "      <td>0.001192</td>\n",
       "    </tr>\n",
       "    <tr>\n",
       "      <th>4</th>\n",
       "      <td>Всем привет)</td>\n",
       "      <td>0</td>\n",
       "      <td>0.004088</td>\n",
       "    </tr>\n",
       "    <tr>\n",
       "      <th>...</th>\n",
       "      <td>...</td>\n",
       "      <td>...</td>\n",
       "      <td>...</td>\n",
       "    </tr>\n",
       "    <tr>\n",
       "      <th>54569</th>\n",
       "      <td>Добрый день скоро открытия огромного магазина для мастеров и любителей ,для парикмахеров и салонов красоты...</td>\n",
       "      <td>1</td>\n",
       "      <td>NaN</td>\n",
       "    </tr>\n",
       "    <tr>\n",
       "      <th>54570</th>\n",
       "      <td>https://t.me/MoscowskyPravdorub/1470?single</td>\n",
       "      <td>1</td>\n",
       "      <td>NaN</td>\n",
       "    </tr>\n",
       "    <tr>\n",
       "      <th>54571</th>\n",
       "      <td>Большой выбор ждём вас</td>\n",
       "      <td>1</td>\n",
       "      <td>NaN</td>\n",
       "    </tr>\n",
       "    <tr>\n",
       "      <th>54572</th>\n",
       "      <td>Интернет от 300 Мбит/с + бесплатный роутер \\nЗвонить с 09:00 до 24:00 без выходных.МГТС/МТС home\\nТелефон:...</td>\n",
       "      <td>1</td>\n",
       "      <td>NaN</td>\n",
       "    </tr>\n",
       "    <tr>\n",
       "      <th>54573</th>\n",
       "      <td>Здравствуйте! Услуги Психолога!\\n\\nПсихолог с высшим образованием и практикой более 10 лет предлагаю услуг...</td>\n",
       "      <td>1</td>\n",
       "      <td>NaN</td>\n",
       "    </tr>\n",
       "  </tbody>\n",
       "</table>\n",
       "<p>54574 rows × 3 columns</p>\n",
       "</div>"
      ],
      "text/plain": [
       "                                                                                                                 msg  \\\n",
       "0                                                                                                            Всем ✋🏻   \n",
       "1      Это супергруппа. А это значит что админ может редактировать и удалять любые сообщения. Пользователи могут ...   \n",
       "2                                                                                                                  /   \n",
       "3                                                                              не пугайтесь, немного почистил мусор)   \n",
       "4                                                                                                       Всем привет)   \n",
       "...                                                                                                              ...   \n",
       "54569  Добрый день скоро открытия огромного магазина для мастеров и любителей ,для парикмахеров и салонов красоты...   \n",
       "54570                                                                    https://t.me/MoscowskyPravdorub/1470?single   \n",
       "54571                                                                                         Большой выбор ждём вас   \n",
       "54572  Интернет от 300 Мбит/с + бесплатный роутер \\nЗвонить с 09:00 до 24:00 без выходных.МГТС/МТС home\\nТелефон:...   \n",
       "54573  Здравствуйте! Услуги Психолога!\\n\\nПсихолог с высшим образованием и практикой более 10 лет предлагаю услуг...   \n",
       "\n",
       "       spam      prob  \n",
       "0         0  0.001667  \n",
       "1         0  0.006001  \n",
       "2         0  0.001910  \n",
       "3         0  0.001192  \n",
       "4         0  0.004088  \n",
       "...     ...       ...  \n",
       "54569     1       NaN  \n",
       "54570     1       NaN  \n",
       "54571     1       NaN  \n",
       "54572     1       NaN  \n",
       "54573     1       NaN  \n",
       "\n",
       "[54574 rows x 3 columns]"
      ]
     },
     "execution_count": 38,
     "metadata": {},
     "output_type": "execute_result"
    }
   ],
   "source": [
    "df_pred = pd.concat([df, pd.Series(predictions[:, 1])], axis=1)\n",
    "df_pred.columns=[\"msg\", \"spam\", \"prob\"]\n",
    "df_pred"
   ]
  },
  {
   "cell_type": "code",
   "execution_count": 39,
   "metadata": {
    "ExecuteTime": {
     "end_time": "2021-04-04T14:22:32.044431Z",
     "start_time": "2021-04-04T14:22:32.030429Z"
    }
   },
   "outputs": [
    {
     "data": {
      "text/plain": [
       "(nan, numpy.float64)"
      ]
     },
     "execution_count": 39,
     "metadata": {},
     "output_type": "execute_result"
    }
   ],
   "source": [
    "df_pred.iloc[54570,2], type(df_pred.iloc[54570,2])"
   ]
  },
  {
   "cell_type": "code",
   "execution_count": 40,
   "metadata": {
    "ExecuteTime": {
     "end_time": "2021-04-04T14:22:32.060426Z",
     "start_time": "2021-04-04T14:22:32.046431Z"
    }
   },
   "outputs": [
    {
     "data": {
      "text/html": [
       "<div>\n",
       "<style scoped>\n",
       "    .dataframe tbody tr th:only-of-type {\n",
       "        vertical-align: middle;\n",
       "    }\n",
       "\n",
       "    .dataframe tbody tr th {\n",
       "        vertical-align: top;\n",
       "    }\n",
       "\n",
       "    .dataframe thead th {\n",
       "        text-align: right;\n",
       "    }\n",
       "</style>\n",
       "<table border=\"1\" class=\"dataframe\">\n",
       "  <thead>\n",
       "    <tr style=\"text-align: right;\">\n",
       "      <th></th>\n",
       "      <th>msg</th>\n",
       "      <th>spam</th>\n",
       "      <th>prob</th>\n",
       "    </tr>\n",
       "  </thead>\n",
       "  <tbody>\n",
       "    <tr>\n",
       "      <th>3458</th>\n",
       "      <td>Брат окно</td>\n",
       "      <td>0</td>\n",
       "      <td>0.165447</td>\n",
       "    </tr>\n",
       "    <tr>\n",
       "      <th>4849</th>\n",
       "      <td>Воробей всегда подрузамевает)))))))))</td>\n",
       "      <td>0</td>\n",
       "      <td>0.143628</td>\n",
       "    </tr>\n",
       "    <tr>\n",
       "      <th>6068</th>\n",
       "      <td>Они по проекту района там предполагались</td>\n",
       "      <td>0</td>\n",
       "      <td>0.161846</td>\n",
       "    </tr>\n",
       "    <tr>\n",
       "      <th>7398</th>\n",
       "      <td>Желания нет продолжать эту беседу...</td>\n",
       "      <td>0</td>\n",
       "      <td>0.161846</td>\n",
       "    </tr>\n",
       "    <tr>\n",
       "      <th>8806</th>\n",
       "      <td>https://mir24.tv/news/16293475/v-podmoskovnom-reutove-za-pytki-nad-zhivotnymi-zaderzhali-devushku</td>\n",
       "      <td>0</td>\n",
       "      <td>0.161846</td>\n",
       "    </tr>\n",
       "    <tr>\n",
       "      <th>9038</th>\n",
       "      <td>Включенные габариты</td>\n",
       "      <td>0</td>\n",
       "      <td>0.161846</td>\n",
       "    </tr>\n",
       "    <tr>\n",
       "      <th>9071</th>\n",
       "      <td>Да, смартфон Android, компьютер Windows</td>\n",
       "      <td>0</td>\n",
       "      <td>0.117427</td>\n",
       "    </tr>\n",
       "    <tr>\n",
       "      <th>9257</th>\n",
       "      <td>Подскажите пожалуйста, где у нас в районе можно зеркало на машине починить? Мне кто-то ночью снёс правое з...</td>\n",
       "      <td>0</td>\n",
       "      <td>0.161846</td>\n",
       "    </tr>\n",
       "    <tr>\n",
       "      <th>9632</th>\n",
       "      <td>И кстати вот тут не за что извиняться мы ж русские , и  \"вы\" на Руси было оскорбительно</td>\n",
       "      <td>0</td>\n",
       "      <td>0.166958</td>\n",
       "    </tr>\n",
       "    <tr>\n",
       "      <th>9922</th>\n",
       "      <td>ЗАметано)</td>\n",
       "      <td>0</td>\n",
       "      <td>0.111680</td>\n",
       "    </tr>\n",
       "    <tr>\n",
       "      <th>10149</th>\n",
       "      <td>Ну и ищите, пойду инвесторов в дивизию предлагать</td>\n",
       "      <td>0</td>\n",
       "      <td>0.161846</td>\n",
       "    </tr>\n",
       "    <tr>\n",
       "      <th>10625</th>\n",
       "      <td>Если брать за понятие \"живёт\" - ставит себе на стол тарелку с супом, то да ЖИВЁТ. А если брать возможности...</td>\n",
       "      <td>0</td>\n",
       "      <td>0.179452</td>\n",
       "    </tr>\n",
       "    <tr>\n",
       "      <th>11090</th>\n",
       "      <td>жена тоже рыба блять, молчит в  тряпочку</td>\n",
       "      <td>0</td>\n",
       "      <td>0.161846</td>\n",
       "    </tr>\n",
       "    <tr>\n",
       "      <th>13434</th>\n",
       "      <td>Кстати, фильм очень наглядный.</td>\n",
       "      <td>0</td>\n",
       "      <td>0.161846</td>\n",
       "    </tr>\n",
       "  </tbody>\n",
       "</table>\n",
       "</div>"
      ],
      "text/plain": [
       "                                                                                                                 msg  \\\n",
       "3458                                                                                                       Брат окно   \n",
       "4849                                                                           Воробей всегда подрузамевает)))))))))   \n",
       "6068                                                                        Они по проекту района там предполагались   \n",
       "7398                                                                            Желания нет продолжать эту беседу...   \n",
       "8806               https://mir24.tv/news/16293475/v-podmoskovnom-reutove-za-pytki-nad-zhivotnymi-zaderzhali-devushku   \n",
       "9038                                                                                             Включенные габариты   \n",
       "9071                                                                         Да, смартфон Android, компьютер Windows   \n",
       "9257   Подскажите пожалуйста, где у нас в районе можно зеркало на машине починить? Мне кто-то ночью снёс правое з...   \n",
       "9632                         И кстати вот тут не за что извиняться мы ж русские , и  \"вы\" на Руси было оскорбительно   \n",
       "9922                                                                                                       ЗАметано)   \n",
       "10149                                                              Ну и ищите, пойду инвесторов в дивизию предлагать   \n",
       "10625  Если брать за понятие \"живёт\" - ставит себе на стол тарелку с супом, то да ЖИВЁТ. А если брать возможности...   \n",
       "11090                                                                       жена тоже рыба блять, молчит в  тряпочку   \n",
       "13434                                                                                 Кстати, фильм очень наглядный.   \n",
       "\n",
       "       spam      prob  \n",
       "3458      0  0.165447  \n",
       "4849      0  0.143628  \n",
       "6068      0  0.161846  \n",
       "7398      0  0.161846  \n",
       "8806      0  0.161846  \n",
       "9038      0  0.161846  \n",
       "9071      0  0.117427  \n",
       "9257      0  0.161846  \n",
       "9632      0  0.166958  \n",
       "9922      0  0.111680  \n",
       "10149     0  0.161846  \n",
       "10625     0  0.179452  \n",
       "11090     0  0.161846  \n",
       "13434     0  0.161846  "
      ]
     },
     "execution_count": 40,
     "metadata": {},
     "output_type": "execute_result"
    }
   ],
   "source": [
    "pd.set_option('display.max_rows', 200)\n",
    "df_pred.loc[df_pred['prob'] > 0.1]"
   ]
  },
  {
   "cell_type": "code",
   "execution_count": 41,
   "metadata": {
    "ExecuteTime": {
     "end_time": "2021-04-04T14:22:32.076429Z",
     "start_time": "2021-04-04T14:22:32.061431Z"
    },
    "scrolled": false
   },
   "outputs": [
    {
     "data": {
      "text/html": [
       "<div>\n",
       "<style scoped>\n",
       "    .dataframe tbody tr th:only-of-type {\n",
       "        vertical-align: middle;\n",
       "    }\n",
       "\n",
       "    .dataframe tbody tr th {\n",
       "        vertical-align: top;\n",
       "    }\n",
       "\n",
       "    .dataframe thead th {\n",
       "        text-align: right;\n",
       "    }\n",
       "</style>\n",
       "<table border=\"1\" class=\"dataframe\">\n",
       "  <thead>\n",
       "    <tr style=\"text-align: right;\">\n",
       "      <th></th>\n",
       "      <th>msg</th>\n",
       "      <th>spam</th>\n",
       "      <th>prob</th>\n",
       "    </tr>\n",
       "  </thead>\n",
       "  <tbody>\n",
       "    <tr>\n",
       "      <th>3458</th>\n",
       "      <td>Брат окно</td>\n",
       "      <td>0</td>\n",
       "      <td>0.165447</td>\n",
       "    </tr>\n",
       "    <tr>\n",
       "      <th>6068</th>\n",
       "      <td>Они по проекту района там предполагались</td>\n",
       "      <td>0</td>\n",
       "      <td>0.161846</td>\n",
       "    </tr>\n",
       "    <tr>\n",
       "      <th>7398</th>\n",
       "      <td>Желания нет продолжать эту беседу...</td>\n",
       "      <td>0</td>\n",
       "      <td>0.161846</td>\n",
       "    </tr>\n",
       "    <tr>\n",
       "      <th>8806</th>\n",
       "      <td>https://mir24.tv/news/16293475/v-podmoskovnom-reutove-za-pytki-nad-zhivotnymi-zaderzhali-devushku</td>\n",
       "      <td>0</td>\n",
       "      <td>0.161846</td>\n",
       "    </tr>\n",
       "    <tr>\n",
       "      <th>9038</th>\n",
       "      <td>Включенные габариты</td>\n",
       "      <td>0</td>\n",
       "      <td>0.161846</td>\n",
       "    </tr>\n",
       "    <tr>\n",
       "      <th>9257</th>\n",
       "      <td>Подскажите пожалуйста, где у нас в районе можно зеркало на машине починить? Мне кто-то ночью снёс правое з...</td>\n",
       "      <td>0</td>\n",
       "      <td>0.161846</td>\n",
       "    </tr>\n",
       "    <tr>\n",
       "      <th>9632</th>\n",
       "      <td>И кстати вот тут не за что извиняться мы ж русские , и  \"вы\" на Руси было оскорбительно</td>\n",
       "      <td>0</td>\n",
       "      <td>0.166958</td>\n",
       "    </tr>\n",
       "    <tr>\n",
       "      <th>10149</th>\n",
       "      <td>Ну и ищите, пойду инвесторов в дивизию предлагать</td>\n",
       "      <td>0</td>\n",
       "      <td>0.161846</td>\n",
       "    </tr>\n",
       "    <tr>\n",
       "      <th>10625</th>\n",
       "      <td>Если брать за понятие \"живёт\" - ставит себе на стол тарелку с супом, то да ЖИВЁТ. А если брать возможности...</td>\n",
       "      <td>0</td>\n",
       "      <td>0.179452</td>\n",
       "    </tr>\n",
       "    <tr>\n",
       "      <th>11090</th>\n",
       "      <td>жена тоже рыба блять, молчит в  тряпочку</td>\n",
       "      <td>0</td>\n",
       "      <td>0.161846</td>\n",
       "    </tr>\n",
       "    <tr>\n",
       "      <th>13434</th>\n",
       "      <td>Кстати, фильм очень наглядный.</td>\n",
       "      <td>0</td>\n",
       "      <td>0.161846</td>\n",
       "    </tr>\n",
       "  </tbody>\n",
       "</table>\n",
       "</div>"
      ],
      "text/plain": [
       "                                                                                                                 msg  \\\n",
       "3458                                                                                                       Брат окно   \n",
       "6068                                                                        Они по проекту района там предполагались   \n",
       "7398                                                                            Желания нет продолжать эту беседу...   \n",
       "8806               https://mir24.tv/news/16293475/v-podmoskovnom-reutove-za-pytki-nad-zhivotnymi-zaderzhali-devushku   \n",
       "9038                                                                                             Включенные габариты   \n",
       "9257   Подскажите пожалуйста, где у нас в районе можно зеркало на машине починить? Мне кто-то ночью снёс правое з...   \n",
       "9632                         И кстати вот тут не за что извиняться мы ж русские , и  \"вы\" на Руси было оскорбительно   \n",
       "10149                                                              Ну и ищите, пойду инвесторов в дивизию предлагать   \n",
       "10625  Если брать за понятие \"живёт\" - ставит себе на стол тарелку с супом, то да ЖИВЁТ. А если брать возможности...   \n",
       "11090                                                                       жена тоже рыба блять, молчит в  тряпочку   \n",
       "13434                                                                                 Кстати, фильм очень наглядный.   \n",
       "\n",
       "       spam      prob  \n",
       "3458      0  0.165447  \n",
       "6068      0  0.161846  \n",
       "7398      0  0.161846  \n",
       "8806      0  0.161846  \n",
       "9038      0  0.161846  \n",
       "9257      0  0.161846  \n",
       "9632      0  0.166958  \n",
       "10149     0  0.161846  \n",
       "10625     0  0.179452  \n",
       "11090     0  0.161846  \n",
       "13434     0  0.161846  "
      ]
     },
     "execution_count": 41,
     "metadata": {},
     "output_type": "execute_result"
    }
   ],
   "source": [
    "pd.set_option('display.max_rows', 200)\n",
    "df_pred.query('(prob > 0.15)').head(200)"
   ]
  },
  {
   "cell_type": "markdown",
   "metadata": {},
   "source": [
    "Сохраним модель (пайплайн)"
   ]
  },
  {
   "cell_type": "code",
   "execution_count": 42,
   "metadata": {
    "ExecuteTime": {
     "end_time": "2021-04-04T14:22:32.376270Z",
     "start_time": "2021-04-04T14:22:32.078427Z"
    }
   },
   "outputs": [],
   "source": [
    "with open(\"spam_classifier_pipeline.dill\", \"wb\") as f:\n",
    "    dill.dump(pipeline, f)"
   ]
  },
  {
   "cell_type": "code",
   "execution_count": null,
   "metadata": {},
   "outputs": [],
   "source": []
  }
 ],
 "metadata": {
  "kernelspec": {
   "display_name": "Python 3",
   "language": "python",
   "name": "python3"
  },
  "language_info": {
   "codemirror_mode": {
    "name": "ipython",
    "version": 3
   },
   "file_extension": ".py",
   "mimetype": "text/x-python",
   "name": "python",
   "nbconvert_exporter": "python",
   "pygments_lexer": "ipython3",
   "version": "3.8.5"
  },
  "toc": {
   "base_numbering": 1,
   "nav_menu": {},
   "number_sections": false,
   "sideBar": true,
   "skip_h1_title": false,
   "title_cell": "Table of Contents",
   "title_sidebar": "Contents",
   "toc_cell": false,
   "toc_position": {},
   "toc_section_display": true,
   "toc_window_display": false
  },
  "varInspector": {
   "cols": {
    "lenName": 16,
    "lenType": 16,
    "lenVar": 40
   },
   "kernels_config": {
    "python": {
     "delete_cmd_postfix": "",
     "delete_cmd_prefix": "del ",
     "library": "var_list.py",
     "varRefreshCmd": "print(var_dic_list())"
    },
    "r": {
     "delete_cmd_postfix": ") ",
     "delete_cmd_prefix": "rm(",
     "library": "var_list.r",
     "varRefreshCmd": "cat(var_dic_list()) "
    }
   },
   "types_to_exclude": [
    "module",
    "function",
    "builtin_function_or_method",
    "instance",
    "_Feature"
   ],
   "window_display": false
  }
 },
 "nbformat": 4,
 "nbformat_minor": 2
}
